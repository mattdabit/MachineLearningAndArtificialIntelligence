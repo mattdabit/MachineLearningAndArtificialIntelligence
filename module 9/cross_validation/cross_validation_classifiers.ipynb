{
 "cells": [
  {
   "metadata": {},
   "cell_type": "markdown",
   "source": [
    "# Cell Phone Price Prediction\n",
    "Data is sourced from https://www.kaggle.com/datasets/atefehmirnaseri/cell-phone-price"
   ],
   "id": "2b4d2860fd71f9e5"
  },
  {
   "metadata": {},
   "cell_type": "code",
   "source": [
    "import numpy as np\n",
    "from sklearn import set_config\n",
    "from sklearn.ensemble import RandomForestClassifier\n",
    "from sklearn.metrics import accuracy_score\n",
    "from sklearn.model_selection import train_test_split, GridSearchCV\n",
    "from sklearn.pipeline import Pipeline\n",
    "from sklearn.preprocessing import PolynomialFeatures\n",
    "from sklearn.preprocessing import StandardScaler\n",
    "from sklearn.svm import SVC\n",
    "from sklearn.tree import DecisionTreeClassifier\n",
    "\n",
    "set_config(display=\"diagram\")\n",
    "\n",
    "import pandas as pd"
   ],
   "id": "initial_id",
   "outputs": [],
   "execution_count": null
  },
  {
   "metadata": {},
   "cell_type": "code",
   "source": "train_data = pd.read_csv('module 9/cross_validation/data/CellPhone_train.csv')",
   "id": "1c41860dc00cc0a1",
   "outputs": [],
   "execution_count": null
  },
  {
   "metadata": {},
   "cell_type": "code",
   "source": "train_data.describe()",
   "id": "cbf08b2e791a6e13",
   "outputs": [],
   "execution_count": null
  },
  {
   "metadata": {},
   "cell_type": "code",
   "source": "train_data.info()",
   "id": "adfb1d5d4abc78f1",
   "outputs": [],
   "execution_count": null
  },
  {
   "metadata": {},
   "cell_type": "code",
   "source": "train_data.isna().mean()",
   "id": "a3ecef7766dc653c",
   "outputs": [],
   "execution_count": null
  },
  {
   "metadata": {},
   "cell_type": "code",
   "source": "train_data.sample(5)",
   "id": "8c187bcb7ba9a106",
   "outputs": [],
   "execution_count": null
  },
  {
   "metadata": {},
   "cell_type": "code",
   "source": [
    "X = train_data.drop('price_range', axis=1)\n",
    "y = train_data['price_range']\n",
    "\n",
    "X_train, X_test, y_train, y_test = train_test_split(X, y, test_size=.2, random_state=42)"
   ],
   "id": "dd815736e5a79ea3",
   "outputs": [],
   "execution_count": null
  },
  {
   "metadata": {},
   "cell_type": "markdown",
   "source": "## Decision Tree Classifier Cross Validation 5 folds",
   "id": "96222bf066b39c1d"
  },
  {
   "metadata": {},
   "cell_type": "code",
   "source": [
    "decision_tree_pipe = Pipeline([\n",
    "    ('poly_features', PolynomialFeatures(include_bias=False)),\n",
    "    ('scaler', StandardScaler()),\n",
    "    ('decision_tree', DecisionTreeClassifier())\n",
    "])\n",
    "param_dict = {\n",
    "    'poly_features__degree': [2, 3, 4],\n",
    "    'decision_tree__max_depth': [4, 5, 6],\n",
    "}\n",
    "\n",
    "grid_decision_tree = GridSearchCV(estimator=decision_tree_pipe, param_grid=param_dict, cv=5)\n",
    "grid_decision_tree.fit(X_train, y_train)"
   ],
   "id": "8d02b2eeb8dcf181",
   "outputs": [],
   "execution_count": null
  },
  {
   "metadata": {},
   "cell_type": "code",
   "source": [
    "best_decision_tree_train_mse = accuracy_score(grid_decision_tree.best_estimator_.predict(X_train), y_train)\n",
    "best_decision_tree_test_mse = accuracy_score(grid_decision_tree.best_estimator_.predict(X_test), y_test)\n",
    "print(f'Train Accuracy: {best_decision_tree_train_mse}')\n",
    "print(f'Test Accuracy: {best_decision_tree_test_mse}')\n",
    "print(f'Best params: {grid_decision_tree.best_params_}')"
   ],
   "id": "5ff9c1b9757a6d73",
   "outputs": [],
   "execution_count": null
  },
  {
   "metadata": {},
   "cell_type": "markdown",
   "source": [
    "Train Accuracy: 0.93375\n",
    "\n",
    "Test Accuracy: 0.895\n",
    "\n",
    "Best params: {'decision_tree__max_depth': 5, 'poly_features__degree': 4}"
   ],
   "id": "8bca32181cae7c88"
  },
  {
   "metadata": {},
   "cell_type": "markdown",
   "source": "## Random Forest",
   "id": "45ac56c573ecf257"
  },
  {
   "metadata": {},
   "cell_type": "code",
   "source": [
    "random_forest_pipe = Pipeline([\n",
    "    ('poly_features', PolynomialFeatures(include_bias=False)),\n",
    "    ('scaler', StandardScaler()),\n",
    "    ('random_forest', RandomForestClassifier())\n",
    "])\n",
    "param_dict = {\n",
    "    'poly_features__degree': [2, 3, 4],\n",
    "    'random_forest__max_depth': [4, 5, 6],\n",
    "    'random_forest__n_estimators': [100, 200],\n",
    "}\n",
    "\n",
    "grid_random_forest = GridSearchCV(estimator=random_forest_pipe, param_grid=param_dict, cv=5)\n",
    "grid_random_forest.fit(X_train, y_train)"
   ],
   "id": "3ef57934b55135d5",
   "outputs": [],
   "execution_count": null
  },
  {
   "metadata": {},
   "cell_type": "code",
   "source": [
    "best_random_forest_train_mse = accuracy_score(grid_random_forest.best_estimator_.predict(X_train), y_train)\n",
    "best_random_forest_test_mse = accuracy_score(grid_random_forest.best_estimator_.predict(X_test), y_test)\n",
    "\n",
    "print(f'Train Accuracy: {best_random_forest_train_mse}')\n",
    "print(f'Test Accuracy: {best_random_forest_test_mse}')\n",
    "print(f'Best params: {grid_random_forest.best_params_}')"
   ],
   "id": "7a45c015bcefb9e9",
   "outputs": [],
   "execution_count": null
  },
  {
   "metadata": {},
   "cell_type": "markdown",
   "source": [
    "Train Accuracy: 0.959375\n",
    "\n",
    "Test Accuracy: 0.8925\n",
    "\n",
    "Best params: {'poly_features__degree': 4, 'random_forest__max_depth': 6, 'random_forest__n_estimators': 100}"
   ],
   "id": "5201c6f92b9942f1"
  },
  {
   "metadata": {},
   "cell_type": "markdown",
   "source": "## C-Support Vector Classification",
   "id": "78d6930d696a08bb"
  },
  {
   "metadata": {},
   "cell_type": "code",
   "source": [
    "svc_pipe = Pipeline([\n",
    "    ('poly_features', PolynomialFeatures(include_bias=False)),\n",
    "    ('scaler', StandardScaler()),\n",
    "    ('svc', SVC())\n",
    "])\n",
    "param_dict = {\n",
    "    'poly_features__degree': [2, 3, 4],\n",
    "    'svc__C': np.arange(0.01, 1, .1)\n",
    "}\n",
    "\n",
    "grid_svc = GridSearchCV(estimator=svc_pipe, param_grid=param_dict, cv=5)\n",
    "grid_svc.fit(X_train, y_train)"
   ],
   "id": "ee79287bfbd49867",
   "outputs": [],
   "execution_count": null
  },
  {
   "metadata": {},
   "cell_type": "code",
   "source": [
    "best_svc_train_mse = accuracy_score(grid_svc.best_estimator_.predict(X_train), y_train)\n",
    "best_svc_test_mse = accuracy_score(grid_svc.best_estimator_.predict(X_test), y_test)\n",
    "\n",
    "print(f'Train Accuracy: {best_svc_train_mse}')\n",
    "print(f'Test Accuracy: {best_svc_test_mse}')\n",
    "print(f'Best params: {grid_svc.best_params_}')"
   ],
   "id": "73da8ade5b862e87",
   "outputs": [],
   "execution_count": null
  },
  {
   "metadata": {},
   "cell_type": "markdown",
   "source": "",
   "id": "3d88310b4dc051cd"
  }
 ],
 "metadata": {
  "kernelspec": {
   "display_name": "Python 3",
   "language": "python",
   "name": "python3"
  },
  "language_info": {
   "codemirror_mode": {
    "name": "ipython",
    "version": 2
   },
   "file_extension": ".py",
   "mimetype": "text/x-python",
   "name": "python",
   "nbconvert_exporter": "python",
   "pygments_lexer": "ipython2",
   "version": "2.7.6"
  }
 },
 "nbformat": 4,
 "nbformat_minor": 5
}
