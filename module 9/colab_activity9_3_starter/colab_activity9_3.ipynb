{
 "cells": [
  {
   "cell_type": "markdown",
   "metadata": {
    "nbgrader": {
     "grade": false,
     "grade_id": "cell-95e44f68c3bfe9c3",
     "locked": true,
     "schema_version": 3,
     "solution": false
    }
   },
   "source": [
    "### Colab Activity 9.3: Using GridSearchCV\n",
    "\n",
    "**Expected Time: 45 Minutes**\n",
    "\n",
    "\n",
    "This activity focuses on using `GridSearchCV` to search over different hyperparameter values within the `Ridge` estimator.  You will first use the grid search to search parameters for an estimator.  Then, you will incorporate a pipeline into the grid search and identify the step in the pipeline you are searching along with the hyperparameters. "
   ]
  },
  {
   "cell_type": "markdown",
   "metadata": {
    "nbgrader": {
     "grade": false,
     "grade_id": "cell-7294e9c55e652e55",
     "locked": true,
     "schema_version": 3,
     "solution": false
    }
   },
   "source": [
    "#### Index\n",
    "\n",
    "- [Problem 1](#Problem-1)\n",
    "- [Problem 2](#Problem-2)\n",
    "- [Problem 3](#Problem-3)\n",
    "- [Problem 4](#Problem-4)\n",
    "- [Problem 5](#Problem-5)"
   ]
  },
  {
   "cell_type": "code",
   "metadata": {
    "nbgrader": {
     "grade": false,
     "grade_id": "cell-67537dcc8e3f0173",
     "locked": true,
     "schema_version": 3,
     "solution": false
    }
   },
   "source": [
    "from sklearn.datasets import fetch_california_housing\n",
    "from sklearn.linear_model import Ridge\n",
    "from sklearn.metrics import mean_squared_error\n",
    "from sklearn.model_selection import train_test_split, GridSearchCV\n",
    "from sklearn.pipeline import Pipeline\n",
    "from sklearn.preprocessing import StandardScaler\n"
   ],
   "outputs": [],
   "execution_count": null
  },
  {
   "cell_type": "markdown",
   "metadata": {
    "nbgrader": {
     "grade": false,
     "grade_id": "cell-9ee01055a3ce101d",
     "locked": true,
     "schema_version": 3,
     "solution": false
    }
   },
   "source": [
    "### The Data\n",
    "\n",
    "We again use the California housing dataset from scikit-learn.  You are building regression models with the `MedHouseVal` as the target feature.  The data is loaded and described below.  "
   ]
  },
  {
   "cell_type": "code",
   "metadata": {
    "nbgrader": {
     "grade": false,
     "grade_id": "cell-92f80ad1fcc64dee",
     "locked": true,
     "schema_version": 3,
     "solution": false
    }
   },
   "source": [
    "cali = fetch_california_housing(as_frame=True)"
   ],
   "outputs": [],
   "execution_count": null
  },
  {
   "cell_type": "code",
   "metadata": {
    "nbgrader": {
     "grade": false,
     "grade_id": "cell-150d457b676317ad",
     "locked": true,
     "schema_version": 3,
     "solution": false
    }
   },
   "source": [
    "cali.frame.head()"
   ],
   "outputs": [],
   "execution_count": null
  },
  {
   "cell_type": "code",
   "metadata": {
    "nbgrader": {
     "grade": false,
     "grade_id": "cell-f18fe3cb83b04d72",
     "locked": true,
     "schema_version": 3,
     "solution": false
    }
   },
   "source": [
    "X = cali.frame.drop('MedHouseVal', axis=1)\n",
    "y = cali.frame['MedHouseVal']"
   ],
   "outputs": [],
   "execution_count": null
  },
  {
   "cell_type": "code",
   "metadata": {
    "nbgrader": {
     "grade": false,
     "grade_id": "cell-3fcff186fe78009e",
     "locked": true,
     "schema_version": 3,
     "solution": false
    }
   },
   "source": [
    "X_train, X_test, y_train, y_test = train_test_split(X, y, test_size=0.3, random_state=42)"
   ],
   "outputs": [],
   "execution_count": null
  },
  {
   "cell_type": "markdown",
   "metadata": {
    "nbgrader": {
     "grade": false,
     "grade_id": "cell-5381ce8acf4327d4",
     "locked": true,
     "schema_version": 3,
     "solution": false
    }
   },
   "source": [
    "### Problem 1\n",
    "\n",
    "#### Dictionary for grid search\n",
    "\n",
    "\n",
    "\n",
    "As discussed in the videos, to search over hyperparameters, you have to create a dictionary with a key whose name exactly matches the hyperparameter.  With the `Ridge` estimator, this will be `alpha`.  Create a dictionary with `alpha` as the key and values `[0.1, 1.0, 10.0]` and assign it to the variable `params_dict` below.  "
   ]
  },
  {
   "metadata": {},
   "cell_type": "code",
   "source": [
    "\n",
    "\n",
    "params_dict = {\n",
    "    'alpha': [.1, 1.0, 10.0]\n",
    "}\n",
    "\n",
    "# Answer check\n",
    "print(params_dict.values())\n",
    "print(params_dict.keys())"
   ],
   "outputs": [],
   "execution_count": null
  },
  {
   "cell_type": "markdown",
   "metadata": {
    "nbgrader": {
     "grade": false,
     "grade_id": "cell-82052901bb43629f",
     "locked": true,
     "schema_version": 3,
     "solution": false
    }
   },
   "source": [
    "### Problem 2\n",
    "\n",
    "#### Creating the grid search object\n",
    "\n",
    "\n",
    "Instantiate a `Ridge()` regressor and assign to `ridge`.\n",
    "\n",
    "Next, use `GridSearchCV(` to instantiate a grid search object using `ridge` as the estimator. Set the argument `param_grid` equal to `params_dict`. Assign your grid to `grid` below. "
   ]
  },
  {
   "metadata": {},
   "cell_type": "code",
   "source": [
    "\n",
    "\n",
    "ridge = Ridge()\n",
    "grid = GridSearchCV(estimator=ridge, param_grid=params_dict)\n",
    "\n",
    "# Answer check\n",
    "print(grid.get_params()['param_grid'])\n",
    "print(grid)"
   ],
   "outputs": [],
   "execution_count": null
  },
  {
   "cell_type": "markdown",
   "metadata": {
    "nbgrader": {
     "grade": false,
     "grade_id": "cell-c6625aee21f52b20",
     "locked": true,
     "schema_version": 3,
     "solution": false
    }
   },
   "source": [
    "### Problem 3\n",
    "\n",
    "#### Performing the grid search\n",
    "\n",
    "\n",
    "\n",
    "\n",
    "- Use the `fit` function on `grid` to train your model using `X_train`  and `y_train`.\n",
    "- Use the `predict` function on `grid` to compute the predictions on `X_train`. Assign your result to `train_preds`.\n",
    "- Use the `predict` function on `gird` to compute the predictions on `X_test`. Assign your result to `test_preds`.\n",
    "- Use the `mean_squared_error` function to compute the MSE between `y_train` and `train_preds`. Assign your result to `train_mse`.\n",
    "- Use the `mean_squared_error` function to compute the MSE between `y_test` and `test_preds`. Assign your result to `test_mse`.\n",
    "\n"
   ]
  },
  {
   "metadata": {},
   "cell_type": "code",
   "source": [
    "grid.fit(X_train, y_train)\n",
    "\n",
    "train_preds = grid.predict(X_train)\n",
    "test_preds = grid.predict(X_test)\n",
    "train_mse = mean_squared_error(train_preds, y_train)\n",
    "test_mse = mean_squared_error(test_preds, y_test)\n",
    "\n",
    "# Answer check\n",
    "print(f'Train MSE: {train_mse}')\n",
    "print(f'Test MSE: {test_mse}')"
   ],
   "outputs": [],
   "execution_count": null
  },
  {
   "cell_type": "markdown",
   "metadata": {
    "nbgrader": {
     "grade": false,
     "grade_id": "cell-725469266717dbdf",
     "locked": true,
     "schema_version": 3,
     "solution": false
    }
   },
   "source": [
    "### Problem 4\n",
    "\n",
    "#### Identify optimal alpha value\n",
    "\n",
    "\n",
    "Use y fit grid to determine the optimal alpha value.  Assign this as a float to `best_alpha` below.  (**Hint**: Use the `best_params_` attribute of the fit grid.)"
   ]
  },
  {
   "cell_type": "code",
   "metadata": {
    "nbgrader": {
     "grade": false,
     "grade_id": "cell-b8942783b220b4ea",
     "locked": false,
     "schema_version": 3,
     "solution": true
    }
   },
   "source": [
    "\n",
    "\n",
    "best_alpha = grid.best_params_\n",
    "\n",
    "# Answer check\n",
    "print(f'Best alpha: {list(best_alpha.values())[0]}')"
   ],
   "outputs": [],
   "execution_count": null
  },
  {
   "cell_type": "markdown",
   "metadata": {
    "nbgrader": {
     "grade": false,
     "grade_id": "cell-f425bd609cecb81d",
     "locked": true,
     "schema_version": 3,
     "solution": false
    }
   },
   "source": [
    "### Problem 5\n",
    "\n",
    "#### Pipeline with Grid Search\n",
    "\n",
    "\n",
    "To use a `Pipeline` in a `GridSearchCV`, you want to preface the value in your parameter dictionary with an all-lowercase version of the object.  For example, to search over a ridge estimator's alpha value, we will create a pipeline with names `scaler` and `ridge` to use the `StandardScaler` followed by the `Ridge` regressor.  To search over the ridge object alpha parameter, we write `ridge__alpha`. (Note there are two underscores here.)\n",
    "\n",
    "Below, you are provided a pipeline and dictionary ready to be used in a new grid search.  You are to instantiate, fit, and score a grid search on the train and test data using mean squared error. Create your grid object as `grid_2` below and assign the training error and test error to `model_2_train_mse` and `model_2_test_mse`.  Determine the optimal value for `alpha` and assign it as a dictionary to `model_2_best_alpha` below."
   ]
  },
  {
   "cell_type": "code",
   "metadata": {},
   "source": [
    "pipe = Pipeline([('scale', StandardScaler()), ('ridge', Ridge())])"
   ],
   "outputs": [],
   "execution_count": null
  },
  {
   "cell_type": "code",
   "metadata": {},
   "source": [
    "param_dict = {'ridge__alpha': [0.001, 0.1, 1.0, 10.0, 100.0, 1000.0]}"
   ],
   "outputs": [],
   "execution_count": null
  },
  {
   "cell_type": "code",
   "metadata": {
    "nbgrader": {
     "grade": false,
     "grade_id": "cell-c4b9fe4c043a7ef6",
     "locked": false,
     "schema_version": 3,
     "solution": true
    }
   },
   "source": [
    "\n",
    "\n",
    "grid_2 = GridSearchCV(estimator=pipe, param_grid=param_dict)\n",
    "model_2_train_mse = mean_squared_error(grid.best_estimator_.predict(X_train), y_train)\n",
    "model_2_test_mse = mean_squared_error(grid.best_estimator_.predict(X_test), y_test)\n",
    "model_2_best_alpha = grid.best_params_\n",
    "\n",
    "# Answer check\n",
    "print(f'Test MSE: {model_2_test_mse}')\n",
    "print(f'Best Alpha: {list(model_2_best_alpha.values())[0]}')"
   ],
   "outputs": [],
   "execution_count": null
  },
  {
   "metadata": {},
   "cell_type": "code",
   "source": "",
   "outputs": [],
   "execution_count": null
  }
 ],
 "metadata": {
  "celltoolbar": "Create Assignment",
  "kernelspec": {
   "display_name": "Python 3 (ipykernel)",
   "language": "python",
   "name": "python3"
  },
  "language_info": {
   "codemirror_mode": {
    "name": "ipython",
    "version": 3
   },
   "file_extension": ".py",
   "mimetype": "text/x-python",
   "name": "python",
   "nbconvert_exporter": "python",
   "pygments_lexer": "ipython3",
   "version": "3.12.1"
  }
 },
 "nbformat": 4,
 "nbformat_minor": 4
}
