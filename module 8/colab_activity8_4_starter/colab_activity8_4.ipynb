{
 "cells": [
  {
   "cell_type": "markdown",
   "metadata": {},
   "source": [
    "### Self-Study Colab Activity 8.4: The “Best” Model.\n",
    "\n",
    "This module was all about regression and using Python's scikitlearn library to build regression models.  Below, a dataset related to real estate prices in California is given. During many of the assignments, you have built and evaluated different models, it is important to spend some time interpreting the resulting \"best\" model.  \n",
    "\n",
    "\n",
    "Your goal is to build a regression model to predict the price of a house in California.  After doing so, you are to *interpret* the model.  There are many strategies for doing so, including some built-in methods from scikitlearn.  One example is `permutation_importance`.  Permutation feature importance is a strategy for inspecting a model and its features' importance.  \n",
    "\n",
    "Take a look at the user guide for `permutation_importance` [here](https://scikit-learn.org/stable/modules/permutation_importance.html).  Use  the `sklearn.inspection` module implementation of `permutation_importance` to investigate the importance of different features to your regression models.  Share these results on the discussion board."
   ]
  },
  {
   "cell_type": "code",
   "metadata": {},
   "source": [
    "import pandas as pd\n",
    "from sklearn.compose import make_column_transformer, make_column_selector\n",
    "from sklearn.inspection import permutation_importance\n",
    "from sklearn.linear_model import LinearRegression\n",
    "from sklearn.metrics import mean_squared_error\n",
    "from sklearn.model_selection import train_test_split\n",
    "from sklearn.pipeline import Pipeline\n",
    "from sklearn.preprocessing import OneHotEncoder, PolynomialFeatures"
   ],
   "outputs": [],
   "execution_count": null
  },
  {
   "cell_type": "code",
   "metadata": {},
   "source": "import numpy as np",
   "outputs": [],
   "execution_count": null
  },
  {
   "cell_type": "code",
   "metadata": {},
   "source": "cali = pd.read_csv('module 8/colab_activity8_4_starter/data/housing.csv')",
   "outputs": [],
   "execution_count": null
  },
  {
   "cell_type": "code",
   "metadata": {},
   "source": [
    "cali.head()"
   ],
   "outputs": [],
   "execution_count": null
  },
  {
   "cell_type": "code",
   "metadata": {},
   "source": [
    "cali.info()"
   ],
   "outputs": [],
   "execution_count": null
  },
  {
   "metadata": {},
   "cell_type": "code",
   "source": "cali.isna().mean()",
   "outputs": [],
   "execution_count": null
  },
  {
   "metadata": {},
   "cell_type": "code",
   "source": "cali = cali.dropna()",
   "outputs": [],
   "execution_count": null
  },
  {
   "cell_type": "code",
   "metadata": {},
   "source": [
    "# Something tells me this ought to be ordinal but will use one hot for now\n",
    "cali['ocean_proximity'].unique()"
   ],
   "outputs": [],
   "execution_count": null
  },
  {
   "metadata": {},
   "cell_type": "code",
   "source": [
    "X = cali.drop('median_house_value', axis=1)\n",
    "y = cali['median_house_value']\n",
    "\n",
    "X_train, X_test, y_train, y_test = train_test_split(X, y, test_size=0.3, random_state=42)"
   ],
   "outputs": [],
   "execution_count": null
  },
  {
   "metadata": {},
   "cell_type": "code",
   "source": [
    "# establish a baseline\n",
    "baseline_train = np.ones(shape=y_train.shape) * y_train.mean()\n",
    "baseline_test = np.ones(shape=y_test.shape) * y_test.mean()\n",
    "mse_baseline_train = mean_squared_error(baseline_train, y_train)\n",
    "mse_baseline_test = mean_squared_error(baseline_test, y_test)\n",
    "print(mse_baseline_train)\n",
    "print(mse_baseline_test)"
   ],
   "outputs": [],
   "execution_count": null
  },
  {
   "metadata": {},
   "cell_type": "code",
   "source": [
    "best_mse = np.inf\n",
    "best_pipe = None\n",
    "\n",
    "train_mses = []\n",
    "test_mses = []\n",
    "for i in range(1, 11):\n",
    "    transformer = make_column_transformer(\n",
    "        (PolynomialFeatures(degree=i), make_column_selector(dtype_include=np.number)),\n",
    "        (OneHotEncoder(), make_column_selector(dtype_include=np.object_))\n",
    "    )\n",
    "    pipe = Pipeline([\n",
    "        ('transformer', transformer),\n",
    "        ('linreg', LinearRegression())\n",
    "    ])\n",
    "    pipe.fit(X_train, y_train)\n",
    "\n",
    "    train_mse = mean_squared_error(y_train, pipe.predict(X_train))\n",
    "    test_mse = mean_squared_error(y_test, pipe.predict(X_test))\n",
    "    train_mses.append(train_mse)\n",
    "    test_mses.append(test_mse)\n",
    "    if test_mse < best_mse:\n",
    "        best_pipe = pipe\n",
    "        best_mse = test_mse\n",
    "\n",
    "print(train_mses)\n",
    "print(test_mses)\n",
    "print(best_pipe)\n",
    "print(best_mse)"
   ],
   "outputs": [],
   "execution_count": null
  },
  {
   "metadata": {},
   "cell_type": "code",
   "source": "best_pipe",
   "outputs": [],
   "execution_count": null
  },
  {
   "metadata": {},
   "cell_type": "code",
   "source": [
    "# 3 degree model proved the best\n",
    "permutation_importance(best_pipe, X, y)"
   ],
   "outputs": [],
   "execution_count": null
  },
  {
   "metadata": {},
   "cell_type": "code",
   "source": "",
   "outputs": [],
   "execution_count": null
  }
 ],
 "metadata": {
  "kernelspec": {
   "display_name": "Python 3 (ipykernel)",
   "language": "python",
   "name": "python3"
  },
  "language_info": {
   "codemirror_mode": {
    "name": "ipython",
    "version": 3
   },
   "file_extension": ".py",
   "mimetype": "text/x-python",
   "name": "python",
   "nbconvert_exporter": "python",
   "pygments_lexer": "ipython3",
   "version": "3.12.4"
  },
  "widgets": {
   "application/vnd.jupyter.widget-state+json": {
    "state": {},
    "version_major": 2,
    "version_minor": 0
   }
  }
 },
 "nbformat": 4,
 "nbformat_minor": 4
}
