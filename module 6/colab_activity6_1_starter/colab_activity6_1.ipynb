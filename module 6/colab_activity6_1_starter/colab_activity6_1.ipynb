{
 "cells": [
  {
   "cell_type": "markdown",
   "metadata": {},
   "source": [
    "### Self-Study Colab Activity 6.1: Summarizing Data with PCA\n",
    "\n",
    "This activity is meant to explore the results of applying PCA to a dataset.  Below, a dataset from a credit card company is loaded and displayed.  This dataset contains customer data pertaining to demographic and payment information as well as basic demographics.  The final column `default payment next month` is what we want to create profiles for.  \n",
    "\n",
    "You are to use PCA and reduce the dimensionality of the data to 2 and 3 dimensions.  Then, draw scatterplots of the resulting data and color them by `default`.  Does it seem that 2 or 3 principal components will seperate the data into clear groups?  Why or why not?  You should post your visualizations and argument for whether the components offer more succinct data representations on the discussion board for this activity.  (Note: In this assignment you should use the sklearn version of `PCA`.)"
   ]
  },
  {
   "cell_type": "code",
   "metadata": {},
   "source": [
    "import matplotlib.pyplot as plt\n",
    "import numpy as np\n",
    "import pandas as pd\n",
    "import plotly.express as px\n",
    "from sklearn.decomposition import PCA"
   ],
   "outputs": [],
   "execution_count": null
  },
  {
   "cell_type": "code",
   "metadata": {},
   "source": "default = pd.read_csv('module 6/colab_activity6_1_starter/data/credit.csv', index_col=0)",
   "outputs": [],
   "execution_count": null
  },
  {
   "cell_type": "code",
   "metadata": {},
   "source": [
    "default.info()"
   ],
   "outputs": [],
   "execution_count": null
  },
  {
   "cell_type": "code",
   "metadata": {},
   "source": [
    "default.head()"
   ],
   "outputs": [],
   "execution_count": null
  },
  {
   "cell_type": "markdown",
   "metadata": {},
   "source": [
    "##### Plotting in 3D\n",
    "\n",
    "Below, example plots are made with both `matplotlib` and with `plotly` to demonstrate how to construct three dimensional plots.  \n",
    "\n",
    "`matplotlib`\n",
    "\n",
    "In `matplotlib` an `axes` object is created where the projection is specified as '3d'.  Then, the `axes` are use to plot a 3D object on.  Below, a scatter plot is built, but there are many 3D objects that can be created in addition to points.  For more information see the documentation on 3D plotting [here](https://matplotlib.org/stable/api/toolkits/mplot3d.html?highlight=3d).\n",
    "\n",
    "\n",
    "`plotly`\n",
    "\n",
    "Use the `scatter_3d` function directly."
   ]
  },
  {
   "cell_type": "code",
   "metadata": {},
   "source": [
    "plt.figure(figsize=(6, 6))\n",
    "ax = plt.axes(projection='3d')\n",
    "ax.scatter3D(default['AGE'], default['BILL_AMT1'], default['BILL_AMT2'], c=default['default.payment.next.month'],\n",
    "             alpha=0.4)\n",
    "ax.set_xlabel('AGE', labelpad=20)\n",
    "ax.set_ylabel('Bill 1 Amount', labelpad=20)\n",
    "ax.set_zlabel('Bill 2 Amount', labelpad=20)\n",
    "ax.view_init(10, 60)\n",
    "plt.title('Age and Bill Amount Colored by Default')\n",
    "plt.tight_layout();"
   ],
   "outputs": [],
   "execution_count": null
  },
  {
   "cell_type": "code",
   "metadata": {},
   "source": "px.scatter_3d(data_frame=default, x='AGE', y='BILL_AMT1', z='BILL_AMT2', color='default.payment.next.month')",
   "outputs": [],
   "execution_count": null
  },
  {
   "cell_type": "code",
   "metadata": {},
   "source": [
    "pca2 = PCA(n_components=2)\n",
    "pca3 = PCA(n_components=3)\n",
    "default_pca = PCA()\n",
    "default_pca.fit(default)"
   ],
   "outputs": [],
   "execution_count": null
  },
  {
   "cell_type": "code",
   "metadata": {},
   "source": [
    "dim_reduction_2 = pca2.fit_transform(X=default)\n",
    "dim_reduction_3 = pca3.fit_transform(X=default)"
   ],
   "outputs": [],
   "execution_count": null
  },
  {
   "cell_type": "code",
   "metadata": {},
   "source": "dim_reduction_2",
   "outputs": [],
   "execution_count": null
  },
  {
   "cell_type": "code",
   "metadata": {},
   "source": "dim_reduction_3",
   "outputs": [],
   "execution_count": null
  },
  {
   "cell_type": "code",
   "metadata": {},
   "source": "px.scatter(data_frame=dim_reduction_3)",
   "outputs": [],
   "execution_count": null
  },
  {
   "cell_type": "code",
   "metadata": {},
   "source": "px.scatter(data_frame=dim_reduction_2)\n",
   "outputs": [],
   "execution_count": null
  },
  {
   "metadata": {},
   "cell_type": "code",
   "source": [
    "explained_variance = default_pca.explained_variance_ratio_\n",
    "cumulative_variance = np.cumsum(explained_variance)\n"
   ],
   "outputs": [],
   "execution_count": null
  },
  {
   "metadata": {},
   "cell_type": "code",
   "source": "explained_variance",
   "outputs": [],
   "execution_count": null
  },
  {
   "metadata": {},
   "cell_type": "code",
   "source": "cumulative_variance",
   "outputs": [],
   "execution_count": null
  },
  {
   "metadata": {},
   "cell_type": "code",
   "source": [
    "\n",
    "\n",
    "fig = px.line(explained_variance, labels={'index': 'Principal Component', 'value': 'Explained Variance Ratio'},\n",
    "              title='Scree Plot', markers=True)\n",
    "fig.update_layout(showlegend=False)\n",
    "fig.show()\n",
    "fig.write_image('module 6/colab_activity6_1_starter/images/pca.png')\n"
   ],
   "outputs": [],
   "execution_count": null
  },
  {
   "metadata": {},
   "cell_type": "code",
   "source": "",
   "outputs": [],
   "execution_count": null
  }
 ],
 "metadata": {
  "kernelspec": {
   "display_name": "Python 3 (ipykernel)",
   "language": "python",
   "name": "python3"
  },
  "language_info": {
   "codemirror_mode": {
    "name": "ipython",
    "version": 3
   },
   "file_extension": ".py",
   "mimetype": "text/x-python",
   "name": "python",
   "nbconvert_exporter": "python",
   "pygments_lexer": "ipython3",
   "version": "3.12.1"
  },
  "widgets": {
   "application/vnd.jupyter.widget-state+json": {
    "state": {},
    "version_major": 2,
    "version_minor": 0
   }
  }
 },
 "nbformat": 4,
 "nbformat_minor": 4
}
