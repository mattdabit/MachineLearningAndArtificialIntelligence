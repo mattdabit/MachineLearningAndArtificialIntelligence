{
 "cells": [
  {
   "cell_type": "markdown",
   "metadata": {
    "id": "n7AuoOhjEPk9",
    "nbgrader": {
     "grade": false,
     "grade_id": "cell-10f9b559c32d5bcd",
     "locked": true,
     "schema_version": 1,
     "solution": false
    }
   },
   "source": [
    "### Self-Study Colab Activity 2.4: Approximating Correlation From Scatterplots\n",
    "\n",
    "**Expected Time: 30 Minutes**\n",
    "\n",
    "\n",
    "\n",
    "This assignment aims to reinforce your understanding of correlation.  \n",
    "\n",
    "A scatterplot of two random variables is shown in an image, and you are asked to guess whether the variables are positively correlated, negatively correlated, or not correlated at all.\n",
    "\n",
    "## Index:\n",
    "\n",
    "- [Problem 1](#Problem-1)\n",
    "- [Problem 2](#Problem-2)\n",
    "- [Problem 3](#Problem-3)\n",
    "- [Problem 4](#Problem-4)\n",
    "- [Problem 5](#Problem-5)\n"
   ]
  },
  {
   "cell_type": "code",
   "execution_count": 7,
   "metadata": {
    "id": "FHsfXOcHEPlB"
   },
   "outputs": [],
   "source": [
    "import scipy.stats as stats\n",
    "import seaborn as sns\n",
    "import pandas as pd\n",
    "import matplotlib.pyplot as plt\n",
    "import numpy as np\n",
    "import cv2\n",
    "from google.colab.patches import cv2_imshow\n",
    "\n"
   ]
  },
  {
   "cell_type": "markdown",
   "metadata": {
    "id": "f7hAh1fQEPlC",
    "nbgrader": {
     "grade": false,
     "grade_id": "cell-01d3b09871580bea",
     "locked": true,
     "schema_version": 1,
     "solution": false
    }
   },
   "source": [
    "[Back to top](#Index:)\n",
    "\n",
    "### Problem 1\n",
    "\n",
    "\n",
    "\n",
    "Given the scatterplot below, determine whether the variables `x1` and `y` are positively, negatively, or not correlated.\n",
    "\n",
    "Assign your solution as a string -- either `positive`, `negative`, or `not` to `ans_1` below.\n"
   ]
  },
  {
   "cell_type": "code",
   "execution_count": 8,
   "metadata": {
    "colab": {
     "base_uri": "https://localhost:8080/",
     "height": 305
    },
    "id": "1HZT1fcBFKgC",
    "outputId": "d1649622-2547-4806-d1bc-c8fd7c5d235d"
   },
   "outputs": [
    {
     "data": {
      "image/png": "[encoded data removed]",
      "text/plain": [
       "<PIL.Image.Image image mode=RGB size=432x288>"
      ]
     },
     "metadata": {},
     "output_type": "display_data"
    }
   ],
   "source": [
    "img = cv2.imread(\"/content/images/guess_1.png\")\n",
    "cv2_imshow(img)"
   ]
  },
  {
   "cell_type": "code",
   "execution_count": null,
   "metadata": {
    "id": "iYEQICUYEPlC",
    "nbgrader": {
     "grade": false,
     "grade_id": "cell-d8bbfa13f2b7ae0a",
     "locked": false,
     "schema_version": 1,
     "solution": true
    }
   },
   "outputs": [],
   "source": [
    "ans1 = None"
   ]
  },
  {
   "cell_type": "markdown",
   "metadata": {
    "id": "S9mAXkwVEPlD",
    "nbgrader": {
     "grade": false,
     "grade_id": "cell-382de1b5c8f63c5a",
     "locked": true,
     "schema_version": 1,
     "solution": false
    }
   },
   "source": [
    "[Back to top](#Index:)\n",
    "\n",
    "### Problem 2\n",
    "\n",
    "\n",
    "\n",
    "\n",
    "Given the scatterplot below, determine whether the variables `x2` and `y` are positively, negatively, or not correlated.\n",
    "\n",
    "Assign your solution as a string -- either `positive`, `negative`, or `not` to `ans_2` below.\n",
    "\n",
    "\n",
    "![](images/guess_2.png)"
   ]
  },
  {
   "cell_type": "code",
   "execution_count": 9,
   "metadata": {
    "colab": {
     "base_uri": "https://localhost:8080/",
     "height": 305
    },
    "id": "QHlgE2WrGRLk",
    "outputId": "55890d4a-64f5-464a-c615-72c48f3755bd"
   },
   "outputs": [
    {
     "data": {
      "image/png": "[encoded data removed]",
      "text/plain": [
       "<PIL.Image.Image image mode=RGB size=432x288>"
      ]
     },
     "metadata": {},
     "output_type": "display_data"
    }
   ],
   "source": [
    "img = cv2.imread(\"/content/images/guess_2.png\")\n",
    "cv2_imshow(img)"
   ]
  },
  {
   "cell_type": "code",
   "execution_count": null,
   "metadata": {
    "id": "pHMC71y7EPlD",
    "nbgrader": {
     "grade": false,
     "grade_id": "cell-5d7037f91eeb36be",
     "locked": false,
     "schema_version": 1,
     "solution": true
    }
   },
   "outputs": [],
   "source": [
    "ans2 = None"
   ]
  },
  {
   "cell_type": "markdown",
   "metadata": {
    "id": "gzKfV2oZEPlD",
    "nbgrader": {
     "grade": false,
     "grade_id": "cell-e0ab12dd7b45e4e1",
     "locked": true,
     "schema_version": 1,
     "solution": false
    }
   },
   "source": [
    "[Back to top](#Index:)\n",
    "\n",
    "### Problem 3\n",
    "\n",
    "\n",
    "\n",
    "Given the scatterplot below, determine whether the variables `x3` and `y` are positively, negatively, or not correlated.\n",
    "\n",
    "Assign your solution as a string -- either `positive`, `negative`, or `not` to `ans_3` below.\n",
    "\n",
    "![](images/guess_3.png)"
   ]
  },
  {
   "cell_type": "code",
   "execution_count": null,
   "metadata": {
    "id": "mGfK6QsmGUZ-"
   },
   "outputs": [],
   "source": [
    "img = cv2.imread(\"/content/images/guess_3.png\")\n",
    "cv2_imshow(img)"
   ]
  },
  {
   "cell_type": "code",
   "execution_count": 1,
   "metadata": {
    "id": "J2glTN0xEPlD",
    "nbgrader": {
     "grade": false,
     "grade_id": "cell-54c7bc870388a32e",
     "locked": false,
     "schema_version": 1,
     "solution": true
    }
   },
   "outputs": [],
   "source": [
    "ans3 = None"
   ]
  },
  {
   "cell_type": "markdown",
   "metadata": {
    "id": "UDIBfHauEPlE",
    "nbgrader": {
     "grade": false,
     "grade_id": "cell-c0ae18c147b12cb6",
     "locked": true,
     "schema_version": 1,
     "solution": false
    }
   },
   "source": [
    "[Back to top](#Index:)\n",
    "\n",
    "### Problem 4\n",
    "\n",
    "\n",
    "\n",
    "\n",
    "Given the scatterplot below, determine whether the variables `x4` and `y` are positively, negatively, or not correlated.\n",
    "\n",
    "Assign your solution as a string -- either `positive`, `negative`, or `not` to `ans_4` below.\n",
    "\n",
    "![](images/guess_4.png)"
   ]
  },
  {
   "cell_type": "code",
   "execution_count": 10,
   "metadata": {
    "colab": {
     "base_uri": "https://localhost:8080/",
     "height": 305
    },
    "id": "658Pt0FaGXPe",
    "outputId": "3772d84b-e4d5-4c08-e794-62f137c595f8"
   },
   "outputs": [
    {
     "data": {
      "image/png": "[encoded data removed]",
      "text/plain": [
       "<PIL.Image.Image image mode=RGB size=432x288>"
      ]
     },
     "metadata": {},
     "output_type": "display_data"
    }
   ],
   "source": [
    "img = cv2.imread(\"/content/images/guess_4.png\")\n",
    "cv2_imshow(img)"
   ]
  },
  {
   "cell_type": "code",
   "execution_count": 2,
   "metadata": {
    "id": "gudjgKojEPlE",
    "nbgrader": {
     "grade": false,
     "grade_id": "cell-d337632c05c8c07e",
     "locked": false,
     "schema_version": 1,
     "solution": true
    }
   },
   "outputs": [],
   "source": [
    "ans4 = None"
   ]
  },
  {
   "cell_type": "markdown",
   "metadata": {
    "id": "yjkUjZ_ZEPlE",
    "nbgrader": {
     "grade": false,
     "grade_id": "cell-1c2ddcf3b6b8dbd9",
     "locked": true,
     "schema_version": 1,
     "solution": false
    }
   },
   "source": [
    "[Back to top](#Index:)\n",
    "\n",
    "### Problem 5\n",
    "\n",
    "\n",
    "\n",
    "Given the scatterplot below, determine whether the variables `x5` and `y` are positively, negatively, or not correlated.\n",
    "\n",
    "Assign your solution as a string -- either `positive`, `negative`, or `not` to `ans_5` below.\n",
    "\n",
    "![](images/guess_5.png)"
   ]
  },
  {
   "cell_type": "code",
   "execution_count": 11,
   "metadata": {
    "colab": {
     "base_uri": "https://localhost:8080/",
     "height": 305
    },
    "id": "7B5cmwGQGakC",
    "outputId": "2ce62e90-29ed-4e40-8491-fc0fb3d4d76e"
   },
   "outputs": [
    {
     "data": {
      "image/png": "[encoded data removed]",
      "text/plain": [
       "<PIL.Image.Image image mode=RGB size=432x288>"
      ]
     },
     "metadata": {},
     "output_type": "display_data"
    }
   ],
   "source": [
    "img = cv2.imread(\"/content/images/guess_5.png\")\n",
    "cv2_imshow(img)"
   ]
  },
  {
   "cell_type": "code",
   "execution_count": null,
   "metadata": {
    "id": "ELRhjmrIEPlE",
    "nbgrader": {
     "grade": false,
     "grade_id": "cell-f21cf8efefa20152",
     "locked": false,
     "schema_version": 1,
     "solution": true
    }
   },
   "outputs": [],
   "source": [
    "\n",
    "\n",
    "ans5 = None\n",
    "\n",
    "\n"
   ]
  },
  {
   "cell_type": "code",
   "execution_count": null,
   "metadata": {
    "id": "xpWT5p4VEPlF"
   },
   "outputs": [],
   "source": []
  }
 ],
 "metadata": {
  "celltoolbar": "Create Assignment",
  "colab": {
   "provenance": []
  },
  "kernelspec": {
   "display_name": "Python 3 (ipykernel)",
   "language": "python",
   "name": "python3"
  },
  "language_info": {
   "codemirror_mode": {
    "name": "ipython",
    "version": 3
   },
   "file_extension": ".py",
   "mimetype": "text/x-python",
   "name": "python",
   "nbconvert_exporter": "python",
   "pygments_lexer": "ipython3",
   "version": "3.12.1"
  }
 },
 "nbformat": 4,
 "nbformat_minor": 4
}
