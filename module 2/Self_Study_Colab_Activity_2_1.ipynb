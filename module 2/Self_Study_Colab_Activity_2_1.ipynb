{
 "cells": [
  {
   "cell_type": "markdown",
   "metadata": {
    "id": "LIivAazzxUvY",
    "nbgrader": {
     "grade": false,
     "grade_id": "cell-461400fc0dc0e751",
     "locked": true,
     "schema_version": 1,
     "solution": false
    }
   },
   "source": [
    "### Self-Study Colab Activity 2.1: Measures of Central Tendency and Gaussian Distributions\n",
    "\n",
    "**Expected Time**: 45 Minutes\n",
    "\n",
    "\n",
    "\n",
    "This activity focuses on generating and examining Gaussian distributions using `scipy.stats`.  The main idea is to use the distribution to generate a sample and compare the sample statistics to those known in your distribution.   Note that you are to use the `.rvs` method of the distribution object rather than any NumPy methods directly to generate samples.  \n",
    "\n",
    "#### Index:\n",
    "\n",
    "- [Problem 1](#Problem-1:-Creating-Gaussian-Distribution-Object)\n",
    "- [Problem 2](#Problem-2:-Random-Samples-from-Distribution)\n",
    "- [Problem 3](#Problem-3:-Statistics-of-Sample)\n",
    "\n"
   ]
  },
  {
   "cell_type": "code",
   "execution_count": 2,
   "metadata": {},
   "outputs": [
    {
     "name": "stdout",
     "output_type": "stream",
     "text": [
      "Defaulting to user installation because normal site-packages is not writeable\n",
      "Collecting scipy\n",
      "  Downloading scipy-1.13.1-cp39-cp39-macosx_12_0_arm64.whl.metadata (60 kB)\n",
      "Requirement already satisfied: numpy<2.3,>=1.22.4 in /Users/dabit/Library/Python/3.9/lib/python/site-packages (from scipy) (2.0.2)\n",
      "Downloading scipy-1.13.1-cp39-cp39-macosx_12_0_arm64.whl (30.3 MB)\n",
      "\u001b[2K   \u001b[90m━━━━━━━━━━━━━━━━━━━━━━━━━━━━━━━━━━━━━━━━\u001b[0m \u001b[32m30.3/30.3 MB\u001b[0m \u001b[31m32.2 MB/s\u001b[0m eta \u001b[36m0:00:00\u001b[0ma \u001b[36m0:00:01\u001b[0m\n",
      "\u001b[?25hInstalling collected packages: scipy\n",
      "Successfully installed scipy-1.13.1\n",
      "\n",
      "\u001b[1m[\u001b[0m\u001b[34;49mnotice\u001b[0m\u001b[1;39;49m]\u001b[0m\u001b[39;49m A new release of pip is available: \u001b[0m\u001b[31;49m24.2\u001b[0m\u001b[39;49m -> \u001b[0m\u001b[32;49m25.0.1\u001b[0m\n",
      "\u001b[1m[\u001b[0m\u001b[34;49mnotice\u001b[0m\u001b[1;39;49m]\u001b[0m\u001b[39;49m To update, run: \u001b[0m\u001b[32;49m/Library/Developer/CommandLineTools/usr/bin/python3 -m pip install --upgrade pip\u001b[0m\n",
      "Note: you may need to restart the kernel to use updated packages.\n"
     ]
    }
   ],
   "source": [
    "pip install scipy"
   ]
  },
  {
   "cell_type": "code",
   "execution_count": 3,
   "metadata": {},
   "outputs": [],
   "source": [
    "\n",
    "from scipy.stats import uniform\n",
    "from scipy.stats import norm\n",
    "import matplotlib.pyplot as plt\n",
    "import numpy as np"
   ]
  },
  {
   "cell_type": "markdown",
   "metadata": {
    "id": "QZ49CNrqxkjA"
   },
   "source": [
    "[Back to top](#Index:)\n",
    "\n",
    "### Problem 1: Creating a Gaussian Distribution Object\n",
    "\n",
    "\n",
    "\n",
    "Above, the Gaussian distribution function has been imported using the `norm` function from the `scipy.stats` library.\n",
    "\n",
    "Use this function to create a Guassian distribution centered at 5 with standard deviation equal to 2.  Assign your solution as a distribution object to `gauss1` below.\n",
    "    "
   ]
  },
  {
   "cell_type": "code",
   "execution_count": 5,
   "metadata": {
    "colab": {
     "base_uri": "https://localhost:8080/"
    },
    "id": "3SOQ2mYgxUvc",
    "nbgrader": {
     "grade": false,
     "grade_id": "cell-d3775252487c85f0",
     "locked": false,
     "schema_version": 1,
     "solution": true
    },
    "outputId": "629fe7ae-0ca4-4c73-bb89-8b86926c6a2d"
   },
   "outputs": [
    {
     "name": "stdout",
     "output_type": "stream",
     "text": [
      "<class 'scipy.stats._distn_infrastructure.rv_continuous_frozen'>\n"
     ]
    }
   ],
   "source": [
    "\n",
    "# Create a gausssian distribution from sample set\n",
    "\n",
    "gauss1 = norm(loc=5, scale=2)\n",
    "\n",
    "\n",
    "\n",
    "\n",
    "\n",
    "# ANSWER CHECK\n",
    "print(type(gauss1))"
   ]
  },
  {
   "cell_type": "markdown",
   "metadata": {
    "id": "mDwz12iSxUvd",
    "nbgrader": {
     "grade": false,
     "grade_id": "cell-2dbf674c72ead722",
     "locked": true,
     "schema_version": 1,
     "solution": false
    }
   },
   "source": [
    "[Back to top](#Index:)\n",
    "\n",
    "### Problem 2: Random Samples from Distribution\n",
    "\n",
    "\n",
    "Use the `.rvs` method on `gauss1` to generate 100 random samples from the distribution.  Inside the `.rvs` method, set`random_state` equal to 12. Assign your response as an array to the variable `samples` below."
   ]
  },
  {
   "cell_type": "code",
   "execution_count": 6,
   "metadata": {
    "id": "OWSY6YkwxUve",
    "nbgrader": {
     "grade": false,
     "grade_id": "cell-1174f4d488906999",
     "locked": false,
     "schema_version": 1,
     "solution": true
    },
    "outputId": "7c917d23-1c50-4fe8-f0b4-023b57780bf0"
   },
   "outputs": [
    {
     "name": "stdout",
     "output_type": "stream",
     "text": [
      "<class 'numpy.ndarray'>\n",
      "100\n"
     ]
    }
   ],
   "source": [
    "\n",
    "\n",
    "samples = ''\n",
    "\n",
    "\n",
    "samples = gauss1.rvs(100)\n",
    "\n",
    "\n",
    "# ANSWER CHECK\n",
    "print(type(samples))\n",
    "print(len(samples))"
   ]
  },
  {
   "cell_type": "markdown",
   "metadata": {
    "id": "eSs6j_EQxUvf",
    "nbgrader": {
     "grade": false,
     "grade_id": "cell-d8757af1fc766bb8",
     "locked": true,
     "schema_version": 1,
     "solution": false
    }
   },
   "source": [
    "[Back to top](#Index:)\n",
    "\n",
    "### Problem 3: Statistics of Sample\n",
    "\n",
    "**2 Points**\n",
    "\n",
    "Use `np.mean` and `np.std` on the variable `samples` you defined in Problem 2 to determine the mean and standard deviation of the sample values.\n",
    "\n",
    "Assign the result to the variables `sample_mean` and `sample_std`, respectively."
   ]
  },
  {
   "cell_type": "code",
   "execution_count": 7,
   "metadata": {
    "id": "k7UU8e6AxUvf",
    "nbgrader": {
     "grade": false,
     "grade_id": "cell-3537ed91e58c86f3",
     "locked": false,
     "schema_version": 1,
     "solution": true
    },
    "outputId": "ada75f35-d299-4186-afe4-ace9ad9ece07"
   },
   "outputs": [
    {
     "name": "stdout",
     "output_type": "stream",
     "text": [
      "5.093302982202004\n",
      "<class 'numpy.float64'>\n"
     ]
    }
   ],
   "source": [
    "\n",
    "\n",
    "sample_mean = np.mean(samples)\n",
    "sample_std = np.std(samples)\n",
    "\n",
    "\n",
    "# ANSWER CHECK\n",
    "print(sample_mean)\n",
    "print(type(sample_mean))"
   ]
  },
  {
   "cell_type": "markdown",
   "metadata": {
    "id": "eeJoIDuwxUvg",
    "nbgrader": {
     "grade": false,
     "grade_id": "cell-eab09377886228bf",
     "locked": true,
     "schema_version": 1,
     "solution": false
    }
   },
   "source": [
    "[Back to top](#Index:)\n",
    "\n",
    "### Plotting the Distribution and Sample\n",
    "\n",
    "The plot below shows the distribution of the data used in this activity.\n",
    "\n",
    "![](images/distandsamples.png)\n",
    "\n",
    "The distribution created is centered at 5 with a standard deviation of 2.  By properties of the normal distribution, 99% of the data will be with $\\pm ~ 3\\sigma$.  Accordingly, an array `x` is created using `np.linspace` with 1000 evenly spaced values $\\mu \\pm 3\\sigma$ (plus and minus three standard deviations from the mean).  \n",
    "\n",
    "The code to create the plot above is given below:\n",
    "\n",
    "\n"
   ]
  },
  {
   "cell_type": "code",
   "execution_count": 8,
   "metadata": {
    "id": "QBcogwvnxUvh",
    "nbgrader": {
     "grade": false,
     "grade_id": "cell-40126c3070c2ab0b",
     "locked": true,
     "schema_version": 1,
     "solution": false
    },
    "outputId": "aab39506-8a41-404c-92c3-bafa900fd17c"
   },
   "outputs": [
    {
     "data": {
      "image/png": "[encoded data removed]",
      "text/plain": [
       "<Figure size 640x480 with 1 Axes>"
      ]
     },
     "metadata": {},
     "output_type": "display_data"
    }
   ],
   "source": [
    "x = np.linspace(-1, 11, 1000)\n",
    "plt.plot(x, gauss1.pdf(x), color = 'black', linewidth = 4, label = 'distribution')\n",
    "plt.hist(samples, density=True, alpha = 0.2, bins = 10, edgecolor = 'black', label = 'sample')\n",
    "plt.legend();\n"
   ]
  },
  {
   "cell_type": "code",
   "execution_count": null,
   "metadata": {
    "id": "np7DoNzExUvh"
   },
   "outputs": [],
   "source": []
  }
 ],
 "metadata": {
  "celltoolbar": "Create Assignment",
  "colab": {
   "provenance": []
  },
  "kernelspec": {
   "display_name": "Python 3 (ipykernel)",
   "language": "python",
   "name": "python3"
  },
  "language_info": {
   "codemirror_mode": {
    "name": "ipython",
    "version": 3
   },
   "file_extension": ".py",
   "mimetype": "text/x-python",
   "name": "python",
   "nbconvert_exporter": "python",
   "pygments_lexer": "ipython3",
   "version": "3.12.7"
  }
 },
 "nbformat": 4,
 "nbformat_minor": 4
}
