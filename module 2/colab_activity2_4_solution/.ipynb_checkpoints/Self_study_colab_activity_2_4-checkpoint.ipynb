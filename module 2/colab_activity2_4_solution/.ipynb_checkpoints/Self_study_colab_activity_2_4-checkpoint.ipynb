{
  "cells": [
    {
      "cell_type": "markdown",
      "metadata": {
        "nbgrader": {
          "grade": false,
          "grade_id": "cell-10f9b559c32d5bcd",
          "locked": true,
          "schema_version": 1,
          "solution": false
        },
        "id": "O2jNTXoBGxIy"
      },
      "source": [
        "### Self-Study Colab Activity 2.4: Approximating Correlation From Scatterplots\n",
        "\n",
        "**Expected Time: 30 Minutes**\n",
        "\n",
        "**Total Points: 25**\n",
        "\n",
        "This assignment aims to reinforce your understanding of correlation.  \n",
        "\n",
        "A scatterplot of two random variables is shown in an image, and you are asked to guess whether the variables are positively correlated, negatively correlated, or not correlated at all.\n",
        "\n",
        "## Index:\n",
        "\n",
        "- [Problem 1](#Problem-1)\n",
        "- [Problem 2](#Problem-2)\n",
        "- [Problem 3](#Problem-3)\n",
        "- [Problem 4](#Problem-4)\n",
        "- [Problem 5](#Problem-5)\n"
      ]
    },
    {
      "cell_type": "code",
      "execution_count": 1,
      "metadata": {
        "id": "plK2QT_EGxI2"
      },
      "outputs": [],
      "source": [
        "import scipy.stats as stats\n",
        "import seaborn as sns\n",
        "import pandas as pd\n",
        "import matplotlib.pyplot as plt\n",
        "import numpy as np\n",
        "import cv2\n",
        "from google.colab.patches import cv2_imshow"
      ]
    },
    {
      "cell_type": "markdown",
      "metadata": {
        "nbgrader": {
          "grade": false,
          "grade_id": "cell-01d3b09871580bea",
          "locked": true,
          "schema_version": 1,
          "solution": false
        },
        "id": "JDLowt2eGxI3"
      },
      "source": [
        "[Back to top](#Index:)\n",
        "\n",
        "### Problem 1\n",
        "\n",
        "\n",
        "Given the scatterplot below, determine whether the variables `x1` and `y` are positively, negatively, or not correlated.\n",
        "\n",
        "Assign your solution as a string -- either `positive`, `negative`, or `not` to `ans_1` below.\n",
        "\n",
        "\n",
        "\n",
        "![](images/guess_1.png)"
      ]
    },
    {
      "cell_type": "code",
      "source": [
        "img = cv2.imread(\"/content/images/guess_1.png\")\n",
        "cv2_imshow(img)"
      ],
      "metadata": {
        "colab": {
          "base_uri": "https://localhost:8080/",
          "height": 305
        },
        "id": "svR9Z49dG9R8",
        "outputId": "6d9ce512-4fc6-41b4-9b4e-391e4f3cf176"
      },
      "execution_count": 3,
      "outputs": [
        {
          "output_type": "display_data",
          "data": {
            "text/plain": [
              "<PIL.Image.Image image mode=RGB size=432x288>"
            ],
            "image/png": "[encoded data removed]"
          },
          "metadata": {}
        }
      ]
    },
    {
      "cell_type": "code",
      "execution_count": 4,
      "metadata": {
        "nbgrader": {
          "grade": false,
          "grade_id": "cell-d8bbfa13f2b7ae0a",
          "locked": false,
          "schema_version": 1,
          "solution": true
        },
        "id": "qxk_dWmHGxI3"
      },
      "outputs": [],
      "source": [
        "\n",
        "ans1 = 'positive'\n"
      ]
    },
    {
      "cell_type": "markdown",
      "metadata": {
        "nbgrader": {
          "grade": false,
          "grade_id": "cell-382de1b5c8f63c5a",
          "locked": true,
          "schema_version": 1,
          "solution": false
        },
        "id": "s43AZKLCGxI4"
      },
      "source": [
        "[Back to top](#Index:)\n",
        "\n",
        "### Problem 2\n",
        "\n",
        "\n",
        "\n",
        "\n",
        "Given the scatterplot below, determine whether the variables `x2` and `y` are positively, negatively, or not correlated.\n",
        "\n",
        "Assign your solution as a string -- either `positive`, `negative`, or `not` to `ans_2` below.\n",
        "\n",
        "\n",
        "![](images/guess_2.png)"
      ]
    },
    {
      "cell_type": "code",
      "source": [
        "img = cv2.imread(\"/content/images/guess_2.png\")\n",
        "cv2_imshow(img)"
      ],
      "metadata": {
        "id": "q2U0Bb4IHFFt"
      },
      "execution_count": null,
      "outputs": []
    },
    {
      "cell_type": "code",
      "execution_count": null,
      "metadata": {
        "nbgrader": {
          "grade": false,
          "grade_id": "cell-5d7037f91eeb36be",
          "locked": false,
          "schema_version": 1,
          "solution": true
        },
        "id": "ZpxWyVEEGxI4"
      },
      "outputs": [],
      "source": [
        "\n",
        "ans2 = 'not'\n"
      ]
    },
    {
      "cell_type": "markdown",
      "metadata": {
        "nbgrader": {
          "grade": false,
          "grade_id": "cell-e0ab12dd7b45e4e1",
          "locked": true,
          "schema_version": 1,
          "solution": false
        },
        "id": "ylABkkB1GxI5"
      },
      "source": [
        "[Back to top](#Index:)\n",
        "\n",
        "### Problem 3\n",
        "\n",
        "\n",
        "\n",
        "Given the scatterplot below, determine whether the variables `x3` and `y` are positively, negatively, or not correlated.\n",
        "\n",
        "Assign your solution as a string -- either `positive`, `negative`, or `not` to `ans_3` below.\n",
        "\n",
        "![](images/guess_3.png)"
      ]
    },
    {
      "cell_type": "code",
      "source": [
        "img = cv2.imread(\"/content/images/guess_3.png\")\n",
        "cv2_imshow(img)"
      ],
      "metadata": {
        "id": "rhfawH8OHKR4"
      },
      "execution_count": null,
      "outputs": []
    },
    {
      "cell_type": "code",
      "execution_count": null,
      "metadata": {
        "nbgrader": {
          "grade": false,
          "grade_id": "cell-54c7bc870388a32e",
          "locked": false,
          "schema_version": 1,
          "solution": true
        },
        "id": "uY747U-SGxI5"
      },
      "outputs": [],
      "source": [
        "\n",
        "ans3 = 'positive'\n"
      ]
    },
    {
      "cell_type": "markdown",
      "metadata": {
        "nbgrader": {
          "grade": false,
          "grade_id": "cell-c0ae18c147b12cb6",
          "locked": true,
          "schema_version": 1,
          "solution": false
        },
        "id": "V-wfwhqpGxI5"
      },
      "source": [
        "[Back to top](#Index:)\n",
        "\n",
        "### Problem 4\n",
        "\n",
        "\n",
        "\n",
        "\n",
        "Given the scatterplot below, determine whether the variables `x4` and `y` are positively, negatively, or not correlated.\n",
        "\n",
        "Assign your solution as a string -- either `positive`, `negative`, or `not` to `ans_4` below.\n",
        "\n",
        "![](images/guess_4.png)"
      ]
    },
    {
      "cell_type": "code",
      "source": [
        "img = cv2.imread(\"/content/images/guess_4.png\")\n",
        "cv2_imshow(img)"
      ],
      "metadata": {
        "id": "DJ60w1NXHNUC"
      },
      "execution_count": null,
      "outputs": []
    },
    {
      "cell_type": "code",
      "execution_count": null,
      "metadata": {
        "nbgrader": {
          "grade": false,
          "grade_id": "cell-d337632c05c8c07e",
          "locked": false,
          "schema_version": 1,
          "solution": true
        },
        "id": "t8dtqwZ0GxI6"
      },
      "outputs": [],
      "source": [
        "\n",
        "ans4 = 'negative'\n",
        "\n"
      ]
    },
    {
      "cell_type": "markdown",
      "metadata": {
        "nbgrader": {
          "grade": false,
          "grade_id": "cell-1c2ddcf3b6b8dbd9",
          "locked": true,
          "schema_version": 1,
          "solution": false
        },
        "id": "MMov6eWmGxI6"
      },
      "source": [
        "[Back to top](#Index:)\n",
        "\n",
        "### Problem 5\n",
        "\n",
        "\n",
        "\n",
        "\n",
        "Given the scatterplot below, determine whether the variables `x5` and `y` are positively, negatively, or not correlated.\n",
        "\n",
        "Assign your solution as a string -- either `positive`, `negative`, or `not` to `ans_5` below.\n",
        "\n",
        "![](images/guess_5.png)"
      ]
    },
    {
      "cell_type": "code",
      "source": [
        "img = cv2.imread(\"/content/images/guess_5.png\")\n",
        "cv2_imshow(img)"
      ],
      "metadata": {
        "colab": {
          "base_uri": "https://localhost:8080/",
          "height": 275
        },
        "id": "K7sq2pBxHReC",
        "outputId": "f283c03b-fa1e-48f0-fea0-56610744db29"
      },
      "execution_count": 5,
      "outputs": [
        {
          "output_type": "error",
          "ename": "AttributeError",
          "evalue": "'NoneType' object has no attribute 'clip'",
          "traceback": [
            "\u001b[0;31m---------------------------------------------------------------------------\u001b[0m",
            "\u001b[0;31mAttributeError\u001b[0m                            Traceback (most recent call last)",
            "\u001b[0;32m<ipython-input-5-f6d6305cacc8>\u001b[0m in \u001b[0;36m<cell line: 2>\u001b[0;34m()\u001b[0m\n\u001b[1;32m      1\u001b[0m \u001b[0mimg\u001b[0m \u001b[0;34m=\u001b[0m \u001b[0mcv2\u001b[0m\u001b[0;34m.\u001b[0m\u001b[0mimread\u001b[0m\u001b[0;34m(\u001b[0m\u001b[0;34m\"/content/images/guess_5.png\"\u001b[0m\u001b[0;34m)\u001b[0m\u001b[0;34m\u001b[0m\u001b[0;34m\u001b[0m\u001b[0m\n\u001b[0;32m----> 2\u001b[0;31m \u001b[0mcv2_imshow\u001b[0m\u001b[0;34m(\u001b[0m\u001b[0mimg\u001b[0m\u001b[0;34m)\u001b[0m\u001b[0;34m\u001b[0m\u001b[0;34m\u001b[0m\u001b[0m\n\u001b[0m",
            "\u001b[0;32m/usr/local/lib/python3.10/dist-packages/google/colab/patches/__init__.py\u001b[0m in \u001b[0;36mcv2_imshow\u001b[0;34m(a)\u001b[0m\n\u001b[1;32m     16\u001b[0m       \u001b[0;34m(\u001b[0m\u001b[0mN\u001b[0m\u001b[0;34m,\u001b[0m \u001b[0mM\u001b[0m\u001b[0;34m,\u001b[0m \u001b[0;36m4\u001b[0m\u001b[0;34m)\u001b[0m \u001b[0;32mis\u001b[0m \u001b[0man\u001b[0m \u001b[0mNxM\u001b[0m \u001b[0mBGRA\u001b[0m \u001b[0mcolor\u001b[0m \u001b[0mimage\u001b[0m\u001b[0;34m.\u001b[0m\u001b[0;34m\u001b[0m\u001b[0;34m\u001b[0m\u001b[0m\n\u001b[1;32m     17\u001b[0m   \"\"\"\n\u001b[0;32m---> 18\u001b[0;31m   \u001b[0ma\u001b[0m \u001b[0;34m=\u001b[0m \u001b[0ma\u001b[0m\u001b[0;34m.\u001b[0m\u001b[0mclip\u001b[0m\u001b[0;34m(\u001b[0m\u001b[0;36m0\u001b[0m\u001b[0;34m,\u001b[0m \u001b[0;36m255\u001b[0m\u001b[0;34m)\u001b[0m\u001b[0;34m.\u001b[0m\u001b[0mastype\u001b[0m\u001b[0;34m(\u001b[0m\u001b[0;34m'uint8'\u001b[0m\u001b[0;34m)\u001b[0m\u001b[0;34m\u001b[0m\u001b[0;34m\u001b[0m\u001b[0m\n\u001b[0m\u001b[1;32m     19\u001b[0m   \u001b[0;31m# cv2 stores colors as BGR; convert to RGB\u001b[0m\u001b[0;34m\u001b[0m\u001b[0;34m\u001b[0m\u001b[0m\n\u001b[1;32m     20\u001b[0m   \u001b[0;32mif\u001b[0m \u001b[0ma\u001b[0m\u001b[0;34m.\u001b[0m\u001b[0mndim\u001b[0m \u001b[0;34m==\u001b[0m \u001b[0;36m3\u001b[0m\u001b[0;34m:\u001b[0m\u001b[0;34m\u001b[0m\u001b[0;34m\u001b[0m\u001b[0m\n",
            "\u001b[0;31mAttributeError\u001b[0m: 'NoneType' object has no attribute 'clip'"
          ]
        }
      ]
    },
    {
      "cell_type": "code",
      "execution_count": null,
      "metadata": {
        "nbgrader": {
          "grade": false,
          "grade_id": "cell-f21cf8efefa20152",
          "locked": false,
          "schema_version": 1,
          "solution": true
        },
        "id": "_hfROAixGxI6"
      },
      "outputs": [],
      "source": [
        "\n",
        "ans5 = 'not'\n",
        "\n"
      ]
    },
    {
      "cell_type": "code",
      "execution_count": null,
      "metadata": {
        "id": "xfyMWvjiGxI7"
      },
      "outputs": [],
      "source": []
    }
  ],
  "metadata": {
    "celltoolbar": "Create Assignment",
    "kernelspec": {
      "display_name": "Python 3",
      "language": "python",
      "name": "python3"
    },
    "language_info": {
      "codemirror_mode": {
        "name": "ipython",
        "version": 3
      },
      "file_extension": ".py",
      "mimetype": "text/x-python",
      "name": "python",
      "nbconvert_exporter": "python",
      "pygments_lexer": "ipython3",
      "version": "3.6.9"
    },
    "colab": {
      "provenance": []
    }
  },
  "nbformat": 4,
  "nbformat_minor": 0
}