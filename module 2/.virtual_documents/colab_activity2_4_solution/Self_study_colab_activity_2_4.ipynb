


import scipy.stats as stats
import seaborn as sns
import pandas as pd
import matplotlib.pyplot as plt
import numpy as np
import cv2
from google.colab.patches import cv2_imshow





img = cv2.imread("/content/images/guess_1.png")
cv2_imshow(img)



ans1 = 'positive'






img = cv2.imread("/content/images/guess_2.png")
cv2_imshow(img)



ans2 = 'not'






img = cv2.imread("/content/images/guess_3.png")
cv2_imshow(img)



ans3 = 'positive'






img = cv2.imread("/content/images/guess_4.png")
cv2_imshow(img)



ans4 = 'negative'







img = cv2.imread("/content/images/guess_5.png")
cv2_imshow(img)



ans5 = 'not'





