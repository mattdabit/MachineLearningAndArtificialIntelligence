


import pandas as pd
import seaborn as sns
import numpy as np





titanic = sns.load_dataset('titanic')


titanic.head()


titanic.info()





### GRADED

first_class = ''
first_class_over_40 = ''
p_over_40_given_first_class = ''

### BEGIN SOLUTION
first_class = titanic.loc[titanic['class'] == 'First'].shape[0]
first_class_over_40 = titanic.loc[(titanic['age'] > 40) & (titanic['class'] == 'First')].shape[0]
p_over_40_given_first_class = first_class_over_40/first_class
### END SOLUTION

# Answer check
print(p_over_40_given_first_class)





### GRADED

second_class = ''
second_class_over_40 = ''
p_over_40_given_second_class = ''

### BEGIN SOLUTION
second_class = titanic.loc[titanic['class'] == 'Second'].shape[0]
second_class_over_40 = titanic.loc[(titanic['age'] > 40) & (titanic['class'] == 'Second')].shape[0]
p_over_40_given_second_class = second_class_over_40/second_class
### END SOLUTION

# Answer check
print(p_over_40_given_second_class)





### GRADED

first_class = ''
second_class = ''

#histogram of first class

#histogram of second class

### BEGIN SOLUTION
first_class = titanic.loc[titanic['class'] == 'First']['age']
second_class = titanic.loc[titanic['class'] == 'Second']['age']
sns.histplot(first_class, color = 'orange', alpha = 0.7)
sns.histplot(second_class, color = 'lightblue', alpha = 0.7)
### END SOLUTION





### GRADED

num_survived = ''
survived_over_30 = ''
p_over_30_given_survived = ''

### BEGIN SOLUTION
num_survived = titanic.loc[titanic['survived'] == 1].shape[0]
survived_over_30 = titanic.loc[(titanic['age'] > 30) & (titanic['survived'] == 1)].shape[0]
p_over_30_given_survived = survived_over_30/num_survived
### END SOLUTION

# Answer check
print(p_over_30_given_survived)






sns.histplot(data = titanic, x = 'age', hue = 'survived')






### GRADED

survived = ''

### BEGIN SOLUTION
survived = False


#HERE IS A WAY TO GET TO THE ANSWER USING CODE
#num_under_20 = titanic[titanic['age']<20].shape[0]
#under_20_survived = titanic[(titanic['survived']==1) & (titanic['age']<20)].shape[0]
#p_survived_given_under_20 = under_20_survived/num_under_20

#survived = p_survived_given_under_20>1-p_survived_given_under_20"

### END SOLUTION
