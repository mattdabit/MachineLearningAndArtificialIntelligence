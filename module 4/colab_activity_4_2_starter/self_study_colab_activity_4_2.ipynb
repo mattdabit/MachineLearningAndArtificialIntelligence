{
 "cells": [
  {
   "cell_type": "markdown",
   "metadata": {
    "id": "HK0OTYmFt25d",
    "nbgrader": {
     "grade": false,
     "grade_id": "cell-d59e622d38433ebd",
     "locked": true,
     "schema_version": 1,
     "solution": false
    }
   },
   "source": [
    "### Self-Study Colab Activity 4.2: Creating Scatterplots, Histograms, and Distribution Plots\n",
    "\n",
    "**Expected Time: 60 Minutes**\n",
    "\n",
    "\n",
    "This activity focuses on using scatterplots to compare GDP and Life Expectancy.  The built-in gapminder data offers GDP and Life Expectancy data similar to the videos, and you will use this to produce a scatterplot that contains more than two dimensions of data and an important transformation.\n",
    "\n",
    "\n",
    "## Index:\n",
    "\n",
    "- [Problem 1](#Problem-1)\n",
    "- [Problem 2](#Problem-2)\n",
    "- [Problem 3](#Problem-3)\n",
    "- [Problem 4](#Problem-4)\n",
    "- [Problem 5](#Problem-5)\n",
    "- [Problem 6](#Problem-6)"
   ]
  },
  {
   "cell_type": "code",
   "metadata": {
    "id": "DqWCQOvUt25f",
    "nbgrader": {
     "grade": false,
     "grade_id": "cell-15f6c1356983be24",
     "locked": true,
     "schema_version": 1,
     "solution": false
    }
   },
   "source": "import plotly.express as px",
   "outputs": [],
   "execution_count": null
  },
  {
   "cell_type": "code",
   "metadata": {
    "id": "Z02JPn5Ft25g",
    "nbgrader": {
     "grade": false,
     "grade_id": "cell-f771b2529aeb006b",
     "locked": true,
     "schema_version": 1,
     "solution": false
    }
   },
   "source": [
    "gapminder = px.data.gapminder()"
   ],
   "outputs": [],
   "execution_count": null
  },
  {
   "cell_type": "code",
   "metadata": {
    "id": "_1V6GuIwt25h",
    "nbgrader": {
     "grade": false,
     "grade_id": "cell-f7482205e9380b5d",
     "locked": true,
     "schema_version": 1,
     "solution": false
    },
    "outputId": "d6701792-a098-4f5c-84f5-c1265fda825f"
   },
   "source": [
    "gapminder.head()"
   ],
   "outputs": [],
   "execution_count": null
  },
  {
   "cell_type": "markdown",
   "metadata": {
    "id": "uaPBVlQwt25h",
    "nbgrader": {
     "grade": false,
     "grade_id": "cell-784a722317349fd3",
     "locked": true,
     "schema_version": 1,
     "solution": false
    }
   },
   "source": [
    "[Back to top](#Index:) \n",
    "\n",
    "### Problem 1\n",
    "\n",
    "#### Scatter Plot of GDP vs. Life Expectancy\n",
    "\n",
    "\n",
    "Use `plotly` to create a scatter plot of the gapminder data with GDP on the $x$-axis and Life Expectancy on the $y$ axis.  "
   ]
  },
  {
   "cell_type": "code",
   "metadata": {
    "nbgrader": {
     "grade": false,
     "grade_id": "cell-e5599457484ba2a1",
     "locked": false,
     "schema_version": 1,
     "solution": true
    }
   },
   "source": [
    "fig = px.scatter(gapminder, x='gdpPercap', y='lifeExp')\n",
    "fig.show()"
   ],
   "outputs": [],
   "execution_count": null
  },
  {
   "cell_type": "markdown",
   "metadata": {
    "id": "76-NSFGKt25i",
    "nbgrader": {
     "grade": false,
     "grade_id": "cell-6b9e4d2b01c27b92",
     "locked": true,
     "schema_version": 1,
     "solution": false
    }
   },
   "source": [
    "[Back to top](#Index:) \n",
    "\n",
    "### Problem 2\n",
    "\n",
    "#### Scatter Plot of GDP vs. Life Expectancy with Country\n",
    "\n",
    "Use `plotly` to create a scatter plot of the gapminder data with GDP on the $x$-axis and Life Expectancy on the $y$ axis and add color to each point based on the `country` column.  "
   ]
  },
  {
   "cell_type": "code",
   "metadata": {
    "nbgrader": {
     "grade": false,
     "grade_id": "cell-fd85c14b4b8ad9d1",
     "locked": false,
     "schema_version": 1,
     "solution": true
    }
   },
   "source": [
    "fig = px.scatter(gapminder, x='gdpPercap', y='lifeExp', color='country')\n",
    "fig.show()"
   ],
   "outputs": [],
   "execution_count": null
  },
  {
   "cell_type": "markdown",
   "metadata": {
    "id": "XvY6wI-8t25j",
    "nbgrader": {
     "grade": false,
     "grade_id": "cell-46a6868a4856ca91",
     "locked": true,
     "schema_version": 1,
     "solution": false
    }
   },
   "source": [
    "[Back to top](#Index:) \n",
    "\n",
    "### Problem 3\n",
    "\n",
    "#### Incorporating Population\n",
    "\n",
    "Use `plotly` to create a scatter plot of the gapminder data with GDP on the $x$-axis and Life Expectancy on the $y$ axis, add color to each point based on the `country` column and size the points based on the population column.  "
   ]
  },
  {
   "cell_type": "code",
   "metadata": {
    "nbgrader": {
     "grade": false,
     "grade_id": "cell-a74c0af66db441f2",
     "locked": false,
     "schema_version": 1,
     "solution": true
    }
   },
   "source": [
    "fig = px.scatter(gapminder, x='gdpPercap', y='lifeExp', color='country', size='pop')\n",
    "fig.show()\n"
   ],
   "outputs": [],
   "execution_count": null
  },
  {
   "cell_type": "markdown",
   "metadata": {
    "id": "qMeAw7Gpt25k",
    "nbgrader": {
     "grade": false,
     "grade_id": "cell-7566c8e00401d5ce",
     "locked": true,
     "schema_version": 1,
     "solution": false
    }
   },
   "source": [
    "[Back to top](#Index:) \n",
    "\n",
    "### Problem 4\n",
    "\n",
    "#### Logarithmic Transformation\n",
    "\n",
    "Use `plotly` to create a scatter plot of the gapminder data with GDP on the $x$-axis and Life Expectancy on the $y$ axis, add color to each point based on the `country` column and size the points based on the population column.    Transform the $x$-axis using the `log_x` argument in the scatter function.  "
   ]
  },
  {
   "cell_type": "code",
   "metadata": {
    "nbgrader": {
     "grade": false,
     "grade_id": "cell-c214a7267a684805",
     "locked": false,
     "schema_version": 1,
     "solution": true
    }
   },
   "source": [
    "fig = px.scatter(gapminder, x='gdpPercap', y='lifeExp', color='country', size='pop', log_x=True)\n",
    "fig.show()"
   ],
   "outputs": [],
   "execution_count": null
  },
  {
   "cell_type": "markdown",
   "metadata": {
    "id": "P-hMA7qKt25l",
    "nbgrader": {
     "grade": false,
     "grade_id": "cell-9fa46c0d56f606bc",
     "locked": true,
     "schema_version": 1,
     "solution": false
    }
   },
   "source": [
    "[Back to top](#Index:) \n",
    "\n",
    "### Problem 5\n",
    "\n",
    "#### Limit to the year 2007\n",
    "\n",
    "Limit the data to the year 2007 and create a scatterplot of GDP vs. Life Expectancy, color by country, size the points by population and use a logarithmic transform on the x-axis. "
   ]
  },
  {
   "cell_type": "code",
   "metadata": {
    "nbgrader": {
     "grade": false,
     "grade_id": "cell-a82225c0e53055ef",
     "locked": false,
     "schema_version": 1,
     "solution": true
    }
   },
   "source": [
    "fig = px.scatter(gapminder.query('year == 2007'), x='gdpPercap', y='lifeExp', color='country', size='pop', log_x=True)\n",
    "fig.show()"
   ],
   "outputs": [],
   "execution_count": null
  },
  {
   "cell_type": "markdown",
   "metadata": {
    "id": "s5akrwTNt25l",
    "nbgrader": {
     "grade": false,
     "grade_id": "cell-5c97ec38a415cb71",
     "locked": true,
     "schema_version": 1,
     "solution": false
    }
   },
   "source": [
    "[Back to top](#Index:) \n",
    "\n",
    "### Problem 6\n",
    "\n",
    "#### Boxplots for GDP by Continent\n",
    "\n",
    "Use `plotly` to create boxplots for GDP by continent.  "
   ]
  },
  {
   "cell_type": "code",
   "metadata": {
    "nbgrader": {
     "grade": false,
     "grade_id": "cell-3b6d09de77118b80",
     "locked": false,
     "schema_version": 1,
     "solution": true
    }
   },
   "source": [
    "fig = px.box(gapminder, x='continent', y='gdpPercap', color='continent', title='Boxplots for GDP by Continent')\n",
    "fig.show()"
   ],
   "outputs": [],
   "execution_count": null
  },
  {
   "metadata": {},
   "cell_type": "code",
   "source": "",
   "outputs": [],
   "execution_count": null
  }
 ],
 "metadata": {
  "celltoolbar": "Create Assignment",
  "colab": {
   "name": "coding_activity_4.3.ipynb",
   "provenance": []
  },
  "kernelspec": {
   "display_name": "Python 3 (ipykernel)",
   "language": "python",
   "name": "python3"
  },
  "language_info": {
   "codemirror_mode": {
    "name": "ipython",
    "version": 3
   },
   "file_extension": ".py",
   "mimetype": "text/x-python",
   "name": "python",
   "nbconvert_exporter": "python",
   "pygments_lexer": "ipython3",
   "version": "3.12.1"
  }
 },
 "nbformat": 4,
 "nbformat_minor": 4
}
