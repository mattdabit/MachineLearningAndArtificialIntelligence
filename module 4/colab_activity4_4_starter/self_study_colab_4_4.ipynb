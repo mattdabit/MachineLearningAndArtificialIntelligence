{
 "cells": [
  {
   "cell_type": "markdown",
   "metadata": {},
   "source": [
    "### Self-Study Colab Activity 4.4: More Sophisticated Plotting\n",
    "\n",
    "#### Customer Profiling\n",
    "\n",
    "This activity is meant to give you practice exploring data, including the use of visualizations with `matplotlib`, `seaborn`, and `plotly`.  The dataset contains demographic information on the customers, information on customer purchases, engagement of customers with promotions, and information on where customer purchases happened.  A complete data dictionary can be found below.  \n",
    "\n",
    "Your task is to explore the data and use visualizations to inform answers to specific questions using the data.  The questions and resulting visualization should be posted in the group discussion related to this activity.  Some example problems/questions to explore could be:\n",
    "\n",
    "-----\n",
    "\n",
    "- Does income differentiate customers who purchase wine? \n",
    "- What customers are more likely to participate in the last promotional campaign?\n",
    "- Are customers with children more likely to purchase products online?\n",
    "- Do married people purchase more wine?\n",
    "- What kinds of purchases led to customer complaints?\n",
    "\n",
    "-----"
   ]
  },
  {
   "cell_type": "markdown",
   "metadata": {},
   "source": [
    "### Data Dictionary\n",
    "\n",
    "Attributes\n",
    "\n",
    "\n",
    "```\n",
    "ID: Customer's unique identifier\n",
    "Year_Birth: Customer's birth year\n",
    "Education: Customer's education level\n",
    "Marital_Status: Customer's marital status\n",
    "Income: Customer's yearly household income\n",
    "Kidhome: Number of children in customer's household\n",
    "Teenhome: Number of teenagers in customer's household\n",
    "Dt_Customer: Date of customer's enrollment with the company\n",
    "Recency: Number of days since customer's last purchase\n",
    "Complain: 1 if a customer complained in the last 2 years, 0 otherwise\n",
    "\n",
    "\n",
    "MntWines: Amount spent on wine in last 2 years\n",
    "MntFruits: Amount spent on fruits in last 2 years\n",
    "MntMeatProducts: Amount spent on meat in last 2 years\n",
    "MntFishProducts: Amount spent on fish in last 2 years\n",
    "MntSweetProducts: Amount spent on sweets in last 2 years\n",
    "MntGoldProds: Amount spent on gold in last 2 years\n",
    "Promotion\n",
    "\n",
    "\n",
    "AcceptedCmp1: 1 if customer accepted the offer in the 1st campaign, 0 otherwise\n",
    "AcceptedCmp2: 1 if customer accepted the offer in the 2nd campaign, 0 otherwise\n",
    "AcceptedCmp3: 1 if customer accepted the offer in the 3rd campaign, 0 otherwise\n",
    "AcceptedCmp4: 1 if customer accepted the offer in the 4th campaign, 0 otherwise\n",
    "AcceptedCmp5: 1 if customer accepted the offer in the 5th campaign, 0 otherwise\n",
    "Response: 1 if customer accepted the offer in the last campaign, 0 otherwise\n",
    "\n",
    "\n",
    "NumWebPurchases: Number of purchases made through the company’s web site\n",
    "NumCatalogPurchases: Number of purchases made using a catalogue\n",
    "NumStorePurchases: Number of purchases made directly in stores\n",
    "NumWebVisitsMonth: Number of visits to company’s web site in the last month\n",
    "```"
   ]
  },
  {
   "cell_type": "code",
   "metadata": {},
   "source": [
    "import pandas as pd\n",
    "import plotly.express as px"
   ],
   "outputs": [],
   "execution_count": null
  },
  {
   "cell_type": "code",
   "metadata": {},
   "source": "df = pd.read_csv('module 4/colab_activity4_4_starter/data/marketing_campaign.csv', sep='\\t')",
   "outputs": [],
   "execution_count": null
  },
  {
   "metadata": {},
   "cell_type": "code",
   "source": "df.info()",
   "outputs": [],
   "execution_count": null
  },
  {
   "cell_type": "code",
   "metadata": {},
   "source": "df.sample(5)",
   "outputs": [],
   "execution_count": null
  },
  {
   "cell_type": "code",
   "metadata": {},
   "source": [
    "df.info()"
   ],
   "outputs": [],
   "execution_count": null
  },
  {
   "cell_type": "markdown",
   "metadata": {},
   "source": [
    "Post your questions with an accompanying visualization in canvas.  You should generate at least three different questions and resulting visualizations.  Include complete sentence explanations of your interpretations of the visualizations."
   ]
  },
  {
   "metadata": {},
   "cell_type": "markdown",
   "source": "#### Do customers who accept an offer spend more than customers who do not? Do their incomes differ?"
  },
  {
   "metadata": {},
   "cell_type": "code",
   "source": [
    "# Add total offers accepted and total amount spent over 2 years\n",
    "df['totalOffersAccepted'] = df[\n",
    "    ['AcceptedCmp1', 'AcceptedCmp2', 'AcceptedCmp3', 'AcceptedCmp4', 'AcceptedCmp5', 'Response']].sum(axis=1)\n",
    "df['totalAmountSpentOver2Years'] = df[\n",
    "    ['MntWines', 'MntFruits', 'MntMeatProducts', 'MntFishProducts', 'MntSweetProducts', 'MntGoldProds']].sum(axis=1)"
   ],
   "outputs": [],
   "execution_count": null
  },
  {
   "metadata": {},
   "cell_type": "code",
   "source": "df.sample(3)",
   "outputs": [],
   "execution_count": null
  },
  {
   "metadata": {},
   "cell_type": "code",
   "source": [
    "q1 = df['Income'].quantile(0.25)\n",
    "q3 = df['Income'].quantile(0.75)\n",
    "iqr = q3 - q1\n",
    "lower_bound = q1 - (1.5 * iqr)\n",
    "upper_bound = q3 + (1.5 * iqr)\n",
    "\n",
    "income_filtered_df = df.query(f'Income >= {lower_bound} and Income <= {upper_bound}')\n",
    "\n",
    "px.histogram(income_filtered_df, x='Income', title=\"Distribution of customer incomes without outliers\")"
   ],
   "outputs": [],
   "execution_count": null
  },
  {
   "metadata": {},
   "cell_type": "code",
   "source": "px.box(income_filtered_df, x='Income', title=\"Most customers earn between $35k - $68k\")",
   "outputs": [],
   "execution_count": null
  },
  {
   "metadata": {},
   "cell_type": "code",
   "source": [
    "px.box(df, x='totalOffersAccepted', y='totalAmountSpentOver2Years', color='totalOffersAccepted',\n",
    "       title=\"On average, customers who accept an offer spend more than customers who do not.\")"
   ],
   "outputs": [],
   "execution_count": null
  },
  {
   "metadata": {},
   "cell_type": "code",
   "source": [
    "px.box(df, x='totalOffersAccepted', y='Income', color='totalOffersAccepted',\n",
    "       title=\"Income may play a small role in the number of offers accepted.\")\n"
   ],
   "outputs": [],
   "execution_count": null
  },
  {
   "metadata": {},
   "cell_type": "code",
   "source": [
    "corr_matrix = df[['totalOffersAccepted', 'totalAmountSpentOver2Years', 'Income']].corr(numeric_only=True).round(2)\n",
    "px.imshow(corr_matrix, title='Correlation Matrix, total spend and income have a positive correlation of .67',\n",
    "          color_continuous_scale='RdBu_r', aspect='auto')"
   ],
   "outputs": [],
   "execution_count": null
  },
  {
   "metadata": {},
   "cell_type": "code",
   "source": [
    "px.scatter(df, x='Income', y='totalAmountSpentOver2Years', color='totalOffersAccepted',\n",
    "           title=\"Those with higher incomes spend more than those with lower incomes.\")"
   ],
   "outputs": [],
   "execution_count": null
  },
  {
   "metadata": {},
   "cell_type": "code",
   "source": [
    "px.histogram(df, x='Income', y='totalAmountSpentOver2Years', color='totalOffersAccepted',\n",
    "             title=\"Those in the higher income group accept more offers and spend more money.\")\n"
   ],
   "outputs": [],
   "execution_count": null
  },
  {
   "metadata": {},
   "cell_type": "markdown",
   "source": [
    "#### Answers to \"Do customers who accept an offer spend more than customers who do not? Do their incomes differ?\"\n",
    "\n",
    "On average, customers who accept an offer spend more than customers that do not. The largest delta is between 0 and 1 offers accepted, the difference in median being ~$550. The incremental increase in spend tailors off with each subsequent offer accepted, which suggests diminishing returns. A customer's income may play a small role in offer acceptance, with a positive correlation of 0.29. There was a strong correlation between income and total spend, 0.67. Total offers accepted and the total amount spent are also positively correlated at 0.46. These correlations are also visualized in the scatter and histogram plots. From a business perspective, we may find more success by targeting higher income customers with adverts containing offers. We may also want to consider why offers are not catching the eyes of customers with lower incomes.\n"
   ]
  },
  {
   "metadata": {},
   "cell_type": "markdown",
   "source": "#### What products have the highest spending among web customers aged between the 1st and 3rd age quartiles?\n"
  },
  {
   "metadata": {},
   "cell_type": "code",
   "source": "",
   "outputs": [],
   "execution_count": null
  },
  {
   "metadata": {},
   "cell_type": "markdown",
   "source": "#### What is the relationship between marital status, presence of children and customer complaints?\n"
  },
  {
   "metadata": {},
   "cell_type": "code",
   "source": "",
   "outputs": [],
   "execution_count": null
  }
 ],
 "metadata": {
  "kernelspec": {
   "display_name": "Python 3 (ipykernel)",
   "language": "python",
   "name": "python3"
  },
  "language_info": {
   "codemirror_mode": {
    "name": "ipython",
    "version": 3
   },
   "file_extension": ".py",
   "mimetype": "text/x-python",
   "name": "python",
   "nbconvert_exporter": "python",
   "pygments_lexer": "ipython3",
   "version": "3.12.1"
  },
  "widgets": {
   "application/vnd.jupyter.widget-state+json": {
    "state": {},
    "version_major": 2,
    "version_minor": 0
   }
  }
 },
 "nbformat": 4,
 "nbformat_minor": 4
}
