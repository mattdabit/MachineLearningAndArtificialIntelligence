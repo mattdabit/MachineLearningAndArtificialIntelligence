{
 "cells": [
  {
   "cell_type": "code",
   "id": "initial_id",
   "metadata": {
    "collapsed": true
   },
   "source": [
    "import matplotlib.pyplot as plt\n",
    "import numpy as np\n",
    "import tensorflow as tf"
   ],
   "outputs": [],
   "execution_count": null
  },
  {
   "metadata": {},
   "cell_type": "code",
   "source": [
    "# Check GPU availability\n",
    "gpus = tf.config.list_physical_devices('GPU')\n",
    "print(f\"GPUs available: {gpus}\")\n",
    "print(f\"Number of GPUs: {len(gpus)}\")\n",
    "\n",
    "# Get GPU details (if available)\n",
    "if gpus:\n",
    "    for gpu in gpus:\n",
    "        print(f\"GPU name: {gpu.name}, Type: {gpu.device_type}\")\n",
    "else:\n",
    "    print(\"No GPU detected. Running on CPU.\")\n",
    "\n",
    "# Verify TensorFlow version\n",
    "print(f\"TensorFlow version: {tf.__version__}\")"
   ],
   "id": "4e516870d9f3dba5",
   "outputs": [],
   "execution_count": null
  },
  {
   "metadata": {},
   "cell_type": "code",
   "source": [
    "# Generate synthetic data\n",
    "np.random.seed(42)\n",
    "X = np.random.rand(1000, 1) * 10\n",
    "y = 3 * X + 5 + np.random.randn(1000, 1) * 2  # y = 3x + 5 + noise"
   ],
   "id": "e4e5886ba14ab30b",
   "outputs": [],
   "execution_count": null
  },
  {
   "metadata": {},
   "cell_type": "code",
   "source": [
    "# Define the model\n",
    "model = tf.keras.Sequential([\n",
    "    tf.keras.layers.Input(shape=(1,)),\n",
    "    tf.keras.layers.Dense(units=1)\n",
    "])"
   ],
   "id": "488063fe4c8a6e9a",
   "outputs": [],
   "execution_count": null
  },
  {
   "metadata": {},
   "cell_type": "code",
   "source": [
    "# Compile the model\n",
    "model.compile(optimizer='adam', loss='mse')"
   ],
   "id": "d340d7c97257e92a",
   "outputs": [],
   "execution_count": null
  },
  {
   "metadata": {},
   "cell_type": "code",
   "source": [
    "# Train the model\n",
    "history = model.fit(X, y, epochs=1000, verbose=0)"
   ],
   "id": "4aa7e4fa65ea92eb",
   "outputs": [],
   "execution_count": null
  },
  {
   "metadata": {},
   "cell_type": "code",
   "source": [
    "# Print model parameters\n",
    "weights = model.get_weights()\n",
    "print(f\"Weight: {weights[0][0][0]:.2f}, Bias: {weights[1][0]:.2f}\")"
   ],
   "id": "26e700bc9ee328ca",
   "outputs": [],
   "execution_count": null
  },
  {
   "metadata": {},
   "cell_type": "code",
   "source": [
    "# Predict and plot\n",
    "y_pred = model.predict(X)\n",
    "plt.scatter(X, y, label='Data')\n",
    "plt.plot(X, y_pred, color='red', label='Fitted Line')\n",
    "plt.xlabel('X')\n",
    "plt.ylabel('y')\n",
    "plt.legend()\n",
    "plt.show()"
   ],
   "id": "1228de9c54bf3a09",
   "outputs": [],
   "execution_count": null
  },
  {
   "metadata": {},
   "cell_type": "code",
   "source": "",
   "id": "cb539839942659b5",
   "outputs": [],
   "execution_count": null
  }
 ],
 "metadata": {
  "kernelspec": {
   "display_name": "Python 3",
   "language": "python",
   "name": "python3"
  },
  "language_info": {
   "codemirror_mode": {
    "name": "ipython",
    "version": 2
   },
   "file_extension": ".py",
   "mimetype": "text/x-python",
   "name": "python",
   "nbconvert_exporter": "python",
   "pygments_lexer": "ipython2",
   "version": "2.7.6"
  }
 },
 "nbformat": 4,
 "nbformat_minor": 5
}
