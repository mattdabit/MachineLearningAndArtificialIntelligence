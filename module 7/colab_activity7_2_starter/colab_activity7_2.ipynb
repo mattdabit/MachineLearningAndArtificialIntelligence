{
 "cells": [
  {
   "cell_type": "markdown",
   "metadata": {
    "nbgrader": {
     "grade": false,
     "grade_id": "cell-207bb2902b4449dc",
     "locked": true,
     "schema_version": 1,
     "solution": false
    }
   },
   "source": [
    "1## Self-Study Colab Activity 7.2: Defining, Computing, and Optimizing Loss\n",
    "\n",
    "**Expected Time = 60 Minutes**\n",
    "\n",
    "\n",
    "This activity focuses on computing and minimizing the L2 loss for different values of theta and identifying the theta that minimizes the L2 loss.  \n",
    "\n",
    "## Index:\n",
    "\n",
    "- [Problem 1](#Problem-1)\n",
    "- [Problem 2](#Problem-2)\n",
    "- [Problem 3](#Problem-3)\n",
    "- [Problem 4](#Problem-4)\n",
    "- [Problem 5](#Problem-5)"
   ]
  },
  {
   "cell_type": "code",
   "metadata": {},
   "source": [
    "\n",
    "import matplotlib.pyplot as plt\n",
    "import numpy as np\n",
    "import seaborn as sns\n",
    "from sklearn.metrics import mean_squared_error"
   ],
   "outputs": [],
   "execution_count": null
  },
  {
   "cell_type": "markdown",
   "metadata": {
    "nbgrader": {
     "grade": false,
     "grade_id": "cell-6851cdfbd4071223",
     "locked": true,
     "schema_version": 1,
     "solution": false
    }
   },
   "source": [
    "### The Dataset\n",
    "\n",
    "The geyser data from seaborn is loaded below.  You are to  build a model using the waiting time to predict the geyser explosion duration.\n",
    "\n",
    "Note that this model will not have an intercept term.  "
   ]
  },
  {
   "cell_type": "code",
   "metadata": {},
   "source": [
    "geyser = sns.load_dataset('geyser')"
   ],
   "outputs": [],
   "execution_count": null
  },
  {
   "cell_type": "code",
   "metadata": {},
   "source": [
    "geyser.head()"
   ],
   "outputs": [],
   "execution_count": null
  },
  {
   "cell_type": "markdown",
   "metadata": {
    "nbgrader": {
     "grade": false,
     "grade_id": "cell-f8e0d04289d1c456",
     "locked": true,
     "schema_version": 1,
     "solution": false
    }
   },
   "source": [
    "[Back to top](#Index:) \n",
    "\n",
    "## Problem 1\n",
    "\n",
    "### Creating an array of $\\theta$'s\n",
    "\n",
    "\n",
    "Below, create an array of 100 equally spaced values between -1 and 1.  Use the `np.linspace` method demonstrated in the lectures and assigned your answer as a numpy array to `thetas` below."
   ]
  },
  {
   "cell_type": "code",
   "metadata": {
    "nbgrader": {
     "grade": false,
     "grade_id": "cell-aec7c884b51f8b43",
     "locked": false,
     "schema_version": 1,
     "solution": true
    }
   },
   "source": [
    "\n",
    "\n",
    "thetas = np.linspace(-1, 1, 100)\n",
    "\n",
    "# Answer check\n",
    "print(type(thetas))\n",
    "print(thetas.shape)"
   ],
   "outputs": [],
   "execution_count": null
  },
  {
   "cell_type": "markdown",
   "metadata": {
    "nbgrader": {
     "grade": false,
     "grade_id": "cell-c653fe4544754dc7",
     "locked": true,
     "schema_version": 1,
     "solution": false
    }
   },
   "source": [
    "[Back to top](#Index:) \n",
    "\n",
    "## Problem 2\n",
    "\n",
    "### The Model\n",
    "\n",
    "\n",
    "\n",
    "In this assignment, our model takes the form:\n",
    "\n",
    "$$\\text{duration} = \\text{waiting} \\times \\theta$$\n",
    "\n",
    "Multiply the values in the `waiting` column of the `geyser` dataset by `0.8` to create a prediction for the case of $\\theta = 0.8$. Assign them as a Series to the variable `prediction` below."
   ]
  },
  {
   "cell_type": "code",
   "metadata": {
    "nbgrader": {
     "grade": false,
     "grade_id": "cell-40948b174cdc8501",
     "locked": false,
     "schema_version": 1,
     "solution": true
    }
   },
   "source": [
    "\n",
    "\n",
    "prediction = geyser['waiting'] * 0.8\n",
    "\n",
    "# Answer check\n",
    "print(type(prediction))\n",
    "print(prediction.shape)"
   ],
   "outputs": [],
   "execution_count": null
  },
  {
   "cell_type": "markdown",
   "metadata": {},
   "source": [
    "[Back to top](#Index:) \n",
    "\n",
    "## Problem 3\n",
    "\n",
    "### Determining Mean Squared Error\n",
    "\n",
    "\n",
    "\n",
    "\n",
    "Use the `mean_squared_error` function to calculate the MSE between the `duration` column of the `geyser` DataFrame and the `0.8*geyser['waiting']` data.\n",
    "\n",
    "Use the function `float` to convert your result to floats. \n",
    "\n",
    "Assign your result as a float to `mse` below."
   ]
  },
  {
   "cell_type": "code",
   "metadata": {
    "nbgrader": {
     "grade": false,
     "grade_id": "cell-888d17b4527cbe61",
     "locked": false,
     "schema_version": 1,
     "solution": true
    }
   },
   "source": [
    "\n",
    "\n",
    "mse = mean_squared_error(geyser['duration'], prediction)\n",
    "\n",
    "# Answer check\n",
    "print(type(mse))\n",
    "print(mse)"
   ],
   "outputs": [],
   "execution_count": null
  },
  {
   "cell_type": "markdown",
   "metadata": {
    "nbgrader": {
     "grade": false,
     "grade_id": "cell-7b12595a47f08985",
     "locked": true,
     "schema_version": 1,
     "solution": false
    }
   },
   "source": [
    "[Back to top](#Index:) \n",
    "\n",
    "## Problem 4\n",
    "\n",
    "### Computing the Mean Squared Error for `thetas`\n",
    "\n",
    "\n",
    "\n",
    "Use a `for` loop over `thetas` to compute the MSE between the column `geyser['duration']` and the column `geyser['waiting']`multiplied by each value of `theta`.  Assign these values in order to the list `mses` below."
   ]
  },
  {
   "cell_type": "code",
   "metadata": {
    "nbgrader": {
     "grade": false,
     "grade_id": "cell-7f0acca5c4ae5d6c",
     "locked": false,
     "schema_version": 1,
     "solution": true
    }
   },
   "source": [
    "\n",
    "\n",
    "mses = [mean_squared_error(geyser['duration'], geyser['waiting'] * theta) for theta in thetas]\n",
    "\n",
    "# Answer check\n",
    "print(type(mses))\n",
    "print(len(mses))\n",
    "print(mses[:10])"
   ],
   "outputs": [],
   "execution_count": null
  },
  {
   "cell_type": "markdown",
   "metadata": {
    "nbgrader": {
     "grade": false,
     "grade_id": "cell-42b6fecad516574e",
     "locked": true,
     "schema_version": 1,
     "solution": false
    }
   },
   "source": [
    "[Back to top](#Index:) \n",
    "\n",
    "## Problem 5\n",
    "\n",
    "### Which $\\theta$ minimizes Mean Squared Error\n",
    "\n",
    "\n",
    "\n",
    "Using the list of `mses`, determine the value for $\\theta$ that minimized the mean squared error.  You may want to amend your loop above to check for the smallest value as the loop proceeds.  Assign your answer as a float to `theta_min` below."
   ]
  },
  {
   "cell_type": "code",
   "metadata": {
    "nbgrader": {
     "grade": false,
     "grade_id": "cell-a03ccd41fe22aac6",
     "locked": false,
     "schema_version": 1,
     "solution": true
    }
   },
   "source": [
    "theta_min = None\n",
    "min_mse = None\n",
    "\n",
    "for theta in thetas:\n",
    "    mse = mean_squared_error(geyser['duration'], geyser['waiting'] * theta)\n",
    "    if min_mse is None or mse < min_mse:\n",
    "        min_mse = mse\n",
    "        theta_min = theta\n",
    "\n",
    "# Answer check\n",
    "print(type(theta_min))\n",
    "print(min_mse)\n",
    "print(theta_min)"
   ],
   "outputs": [],
   "execution_count": null
  },
  {
   "cell_type": "markdown",
   "metadata": {
    "nbgrader": {
     "grade": false,
     "grade_id": "cell-84ec1ca3faa45312",
     "locked": true,
     "schema_version": 1,
     "solution": false
    }
   },
   "source": [
    "Note that, again, the shape of the Mean Squared Error is a parabola.  The plot below shows the values of thetas againt their mean squared error.  \n",
    "\n",
    "<center>\n",
    "    <img src = 'images/mse_min.png' >\n",
    "</center>"
   ]
  },
  {
   "cell_type": "code",
   "metadata": {
    "ExecuteTime": {
     "end_time": "2025-05-24T22:13:48.546572Z",
     "start_time": "2025-05-24T22:13:48.479579Z"
    }
   },
   "source": [
    "#Code for Plot\n",
    "plt.plot(thetas, mses)\n",
    "plt.plot(thetas[np.argmin(mses)], min(mses), 'ro', label='Minimum')\n",
    "plt.legend()\n",
    "plt.title('Minimum MSE')\n",
    "plt.xlabel(r'$\\theta$')\n",
    "plt.ylabel('MSE')\n",
    "plt.grid();\n",
    "# plt.savefig('images/mse_min.png')"
   ],
   "outputs": [
    {
     "data": {
      "text/plain": [
       "<Figure size 640x480 with 1 Axes>"
      ],
      "image/png": "[encoded data removed]"
     },
     "metadata": {},
     "output_type": "display_data"
    }
   ],
   "execution_count": 10
  },
  {
   "metadata": {},
   "cell_type": "code",
   "source": "",
   "outputs": [],
   "execution_count": null
  }
 ],
 "metadata": {
  "celltoolbar": "Create Assignment",
  "kernelspec": {
   "display_name": "Python 3 (ipykernel)",
   "language": "python",
   "name": "python3"
  },
  "language_info": {
   "codemirror_mode": {
    "name": "ipython",
    "version": 3
   },
   "file_extension": ".py",
   "mimetype": "text/x-python",
   "name": "python",
   "nbconvert_exporter": "python",
   "pygments_lexer": "ipython3",
   "version": "3.12.1"
  }
 },
 "nbformat": 4,
 "nbformat_minor": 4
}
