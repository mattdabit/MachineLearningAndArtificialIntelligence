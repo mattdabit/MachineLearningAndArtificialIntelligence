{
 "cells": [
  {
   "attachments": {},
   "cell_type": "markdown",
   "metadata": {
    "nbgrader": {
     "grade": false,
     "grade_id": "cell-2894236e4db61fcf",
     "locked": true,
     "schema_version": 3,
     "solution": false
    }
   },
   "source": [
    "### Colab Activity 10.1: Working with Dates in `pandas`\n",
    "\n",
    "**Estimated Time: 45 Minutes**\n",
    "\n",
    "\n",
    "This activity focuses on working with datetime objects in pandas.  There is a good deal of functionality built into a DataFrame when working with datetime objects.  Specifically, you will examine how to convert dates to datetime objects using `pd.to_datetime`.  Also, you will examine how to use pandas to set the datetime as an index and use the dates to select specific data. \n",
    "\n",
    "\n",
    "#### Index\n",
    "\n",
    "- [Problem 1](#Problem-1)\n",
    "- [Problem 2](#Problem-2)\n",
    "- [Problem 3](#Problem-3)\n",
    "- [Problem 4](#Problem-4)\n"
   ]
  },
  {
   "metadata": {},
   "cell_type": "code",
   "outputs": [],
   "execution_count": null,
   "source": "import pandas as pd"
  },
  {
   "attachments": {},
   "cell_type": "markdown",
   "metadata": {
    "nbgrader": {
     "grade": false,
     "grade_id": "cell-071fdd4d885a45f2",
     "locked": true,
     "schema_version": 3,
     "solution": false
    }
   },
   "source": [
    "[Back to top](#-Index)\n",
    "\n",
    "### Problem 1\n",
    "\n",
    "#### Using `pd.to_datetime`\n",
    "\n",
    "\n",
    "As you saw demonstrated, the `pd.to_datetime` function takes in a string representing a date and converts it to a datetime object.  This is a specific datatype in pandas.  Below, you are given a string `adate` representing a date and are to use the `to_datetime` method to convert the string to a datetime object.  Assign your solution as `adatetime` below."
   ]
  },
  {
   "metadata": {},
   "cell_type": "code",
   "source": [
    "\n",
    "\n",
    "adate = '01-01-2000'\n",
    "adatetime = pd.to_datetime(adate)\n",
    "\n",
    "# Answer check\n",
    "print(adatetime)\n",
    "print(type(adatetime))"
   ],
   "outputs": [],
   "execution_count": null
  },
  {
   "attachments": {},
   "cell_type": "markdown",
   "metadata": {
    "nbgrader": {
     "grade": false,
     "grade_id": "cell-8d380398cd625e05",
     "locked": true,
     "schema_version": 3,
     "solution": false
    }
   },
   "source": [
    "[Back to top](#-Index)\n",
    "\n",
    "### Problem 2\n",
    "\n",
    "#### Dates in a `DataFrame`\n",
    "\n",
    "\n",
    "\n",
    "Below, you are given a small DataFrame `sample_df` with two columns -- `date` and `price`.  The `date` feature is a string datatype.  You are to change the column to a datetime object.\n",
    "\n",
    "Update the `date` column of the `data` DataFrame as datetime type.  "
   ]
  },
  {
   "metadata": {},
   "cell_type": "code",
   "outputs": [],
   "execution_count": null,
   "source": [
    "data = {'price': [10.24, 11.34, 14.72, 13.90, 15.03],\n",
    "        'date': ['11-01-2020', '11-02-2021', '11-03-2021', '11-04-2021', '11-05-2021']}\n",
    "sample_df = pd.DataFrame(data)\n",
    "sample_df"
   ]
  },
  {
   "metadata": {},
   "cell_type": "code",
   "source": [
    "sample_df['date'] = pd.to_datetime(sample_df['date'])\n",
    "\n",
    "# Answer check\n",
    "print(sample_df['date'])\n",
    "print(sample_df.dtypes)"
   ],
   "outputs": [],
   "execution_count": null
  },
  {
   "attachments": {},
   "cell_type": "markdown",
   "metadata": {
    "nbgrader": {
     "grade": false,
     "grade_id": "cell-2c6c5e290b26717d",
     "locked": true,
     "schema_version": 3,
     "solution": false
    }
   },
   "source": [
    "[Back to top](#-Index)\n",
    "\n",
    "### Problem 3\n",
    "\n",
    "#### Extracting information from `datetime` objects\n",
    "\n",
    "\n",
    "\n",
    "If a pandas series has a column of type `datetime`, you can extract information about the given date using the `.dt` function followed by the appropriate datetime method.  For example, in the above problem, we would be able to extract the month of each row with:\n",
    "\n",
    "```python\n",
    "sample_df['date'].dt.month\n",
    "```\n",
    "\n",
    "Below, a DataFrame containing oil prices in Bolivia is loaded.  You are to convert the `date` column to a datetime object and create a new column named `month` that contains the month of each price observation."
   ]
  },
  {
   "metadata": {},
   "cell_type": "code",
   "source": [
    "oil = pd.read_csv('module 10/colab_activity10_1_starter/data/oil.csv')\n",
    "oil.head()"
   ],
   "outputs": [],
   "execution_count": null
  },
  {
   "metadata": {},
   "cell_type": "code",
   "source": [
    "\n",
    "oil['date'] = pd.to_datetime(oil['date'])\n",
    "oil['month'] = oil['date'].dt.month\n",
    "\n",
    "# Answer check\n",
    "print('Counts of months in data\\n==================')\n",
    "print(oil['month'].value_counts())"
   ],
   "outputs": [],
   "execution_count": null
  },
  {
   "attachments": {},
   "cell_type": "markdown",
   "metadata": {
    "nbgrader": {
     "grade": false,
     "grade_id": "cell-56f61e7493336dcf",
     "locked": true,
     "schema_version": 3,
     "solution": false
    }
   },
   "source": [
    "[Back to top](#-Index)\n",
    "\n",
    "### Problem 4\n",
    "\n",
    "#### Slicing data with `datetime` index\n",
    "\n",
    "\n",
    "One feature of using a `datetime` as an index is the ability to slice data using the dates.  For example, in the below data containing Microsoft stock data from the year 2020, once the date column is converted to `datetime` and is set as the index, we could slice all dates after March 1st with\n",
    "\n",
    "```python\n",
    "msft['2020-03-01':]\n",
    "```\n",
    "\n",
    "Using the `msft` data, change the `Date` column to `datetime` and set it to the index of the DataFrame.  Use the datetime index to select days between June 21st and September 22nd.  Assign the slice to the variable `msft_summer` below.  "
   ]
  },
  {
   "metadata": {},
   "cell_type": "code",
   "source": [
    "msft = pd.read_csv('module 10/colab_activity10_1_starter/data/msft.csv')\n",
    "msft.info()"
   ],
   "outputs": [],
   "execution_count": null
  },
  {
   "metadata": {},
   "cell_type": "code",
   "source": [
    "#write your solution here\n",
    "msft['Date'] = pd.to_datetime(msft['Date'])\n",
    "msft = msft.set_index('Date')\n",
    "\n",
    "msft_summer = msft['2020-06-21':'2020-09-22']\n",
    "\n",
    "# Answer check\n",
    "msft_summer.head()"
   ],
   "outputs": [],
   "execution_count": null
  },
  {
   "metadata": {},
   "cell_type": "code",
   "source": "",
   "outputs": [],
   "execution_count": null
  }
 ],
 "metadata": {
  "celltoolbar": "Create Assignment",
  "kernelspec": {
   "display_name": "Python 3 (ipykernel)",
   "language": "python",
   "name": "python3"
  },
  "language_info": {
   "codemirror_mode": {
    "name": "ipython",
    "version": 3
   },
   "file_extension": ".py",
   "mimetype": "text/x-python",
   "name": "python",
   "nbconvert_exporter": "python",
   "pygments_lexer": "ipython3",
   "version": "3.9.11"
  },
  "widgets": {
   "application/vnd.jupyter.widget-state+json": {
    "state": {},
    "version_major": 2,
    "version_minor": 0
   }
  }
 },
 "nbformat": 4,
 "nbformat_minor": 4
}
